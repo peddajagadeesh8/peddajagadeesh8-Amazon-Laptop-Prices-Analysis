{
 "cells": [
  {
   "cell_type": "markdown",
   "id": "393de5a3-e5aa-48b2-8955-a97cab2e7cfe",
   "metadata": {},
   "source": [
    "<center><h1><b>Project Title : Amazon Laptop Prices Analysis </b></h1></center>\n",
    "<h2>Purpose</h2>\n",
    "This dataset consists of comprehensive collection of latest available laptops scraped from Amazon.com. \n",
    "The data includes product details such as the rating, price, operating system, title, review count, and display size. \n",
    "This dataset comprises approximately 4.5K data points, each representing a unique laptop listing, and includes 14 distinct features."
   ]
  },
  {
   "cell_type": "markdown",
   "id": "6a3e1032-e79f-4cb6-bbdd-04ecc2bbc6fa",
   "metadata": {},
   "source": [
    "## Step 1 : Importing necessary packages"
   ]
  },
  {
   "cell_type": "code",
   "execution_count": 108,
   "id": "7c34deb3-388e-423b-86ec-a3d20dd2f2f7",
   "metadata": {},
   "outputs": [],
   "source": [
    "# Importing necessary packages for data manipulation and visualization\n",
    "import pandas as pd # pandas for data manipulation\n",
    "\n",
    "import matplotlib.pyplot as plt # Matplotlib for data visualization"
   ]
  },
  {
   "cell_type": "markdown",
   "id": "b498d32d-b538-439d-a805-8579a2b32d1c",
   "metadata": {},
   "source": [
    "## Step 2 : Loading the data from the local system to the jupyter notebook"
   ]
  },
  {
   "cell_type": "code",
   "execution_count": 109,
   "id": "59a0bebb-51c1-4c69-9663-8457cbbdc50b",
   "metadata": {},
   "outputs": [
    {
     "name": "stdout",
     "output_type": "stream",
     "text": [
      "      brand                   model   screen_size       color harddisk  \\\n",
      "0      ROKC                     NaN     14 Inches        Blue  1000 GB   \n",
      "1        HP                     NaN   15.6 Inches      Silver  1000 GB   \n",
      "2       MSI   Vector GP66 12UGS-267  15.66 Inches  Core Black      NaN   \n",
      "3     Apple             MacBook Air   13.3 Inches      Silver   256 GB   \n",
      "4     Apple             MacBook Air   15.3 Inches    Midnight   256 GB   \n",
      "...     ...                     ...           ...         ...      ...   \n",
      "4441    MSI  Stealth GS66 12UGS-025   15.6 Inches  Core Black      NaN   \n",
      "4442   ROKC                     NaN     14 Inches        Blue  1000 GB   \n",
      "4443   Dell    Inspiron 3511 Laptop   15.6 Inches       Black   512 GB   \n",
      "4444   Dell    Latitude 3420 Laptop     14 Inches         NaN   512 GB   \n",
      "4445   Dell    Latitude 5430 Laptop     14 Inches       Black   256 GB   \n",
      "\n",
      "                cpu    ram               OS  special_features    graphics  \\\n",
      "0     Intel Core i7   8 GB       Windows 11               NaN  Integrated   \n",
      "1     Intel Core i5  64 GB   Windows 11 Pro  Backlit Keyboard  Integrated   \n",
      "2     Intel Core i9  32 GB  Windows 11 Home               NaN   Dedicated   \n",
      "3           Unknown   8 GB           Mac OS  Backlit Keyboard  Integrated   \n",
      "4           Unknown   8 GB           Mac OS               NaN  Integrated   \n",
      "...             ...    ...              ...               ...         ...   \n",
      "4441  Intel Core i9  32 GB  Windows 11 Home               NaN   Dedicated   \n",
      "4442  Intel Core i7   8 GB       Windows 11               NaN  Integrated   \n",
      "4443        Core i3   8 GB  Windows 10 Home  Wifi & Bluetooth  Integrated   \n",
      "4444        Core i5   8 GB   Windows 10 Pro               NaN  Integrated   \n",
      "4445        Core i5    NaN   Windows 11 Pro               NaN  Integrated   \n",
      "\n",
      "           graphics_coprocessor cpu_speed  rating       price  \n",
      "0                         Intel   1.2 GHz     NaN    $589.99   \n",
      "1                         Intel       NaN     4.5    $999.99   \n",
      "2                           NaN   1.8 GHz     5.0  $1,599.00   \n",
      "3                           NaN       NaN     4.8    $689.99   \n",
      "4                           NaN       NaN     4.8  $1,144.48   \n",
      "...                         ...       ...     ...         ...  \n",
      "4441    NVIDIA GeForce RTX 3070   1.8 GHz     1.0  $1,699.00   \n",
      "4442                      Intel   1.2 GHz     NaN    $589.99   \n",
      "4443                        NaN       NaN     NaN    $591.99   \n",
      "4444  Intel Integrated Graphics   0.9 GHz     NaN  $1,771.99   \n",
      "4445  Intel Integrated Graphics   3.3 GHz     NaN    $938.99   \n",
      "\n",
      "[4446 rows x 14 columns]\n"
     ]
    }
   ],
   "source": [
    "# Load the files\n",
    "data = pd.read_csv(r'E:\\Project\\amazon_laptop_prices_v01.csv')\n",
    "\n",
    "# Print the dataset\n",
    "print(data)"
   ]
  },
  {
   "cell_type": "markdown",
   "id": "588c8442-fc31-490c-bc22-43323cd296dc",
   "metadata": {},
   "source": [
    "## Step 3 : Data View"
   ]
  },
  {
   "cell_type": "code",
   "execution_count": 110,
   "id": "df6260f3-57a2-454b-a52e-623e6e8177dc",
   "metadata": {
    "scrolled": true
   },
   "outputs": [
    {
     "data": {
      "text/html": [
       "<div>\n",
       "<style scoped>\n",
       "    .dataframe tbody tr th:only-of-type {\n",
       "        vertical-align: middle;\n",
       "    }\n",
       "\n",
       "    .dataframe tbody tr th {\n",
       "        vertical-align: top;\n",
       "    }\n",
       "\n",
       "    .dataframe thead th {\n",
       "        text-align: right;\n",
       "    }\n",
       "</style>\n",
       "<table border=\"1\" class=\"dataframe\">\n",
       "  <thead>\n",
       "    <tr style=\"text-align: right;\">\n",
       "      <th></th>\n",
       "      <th>brand</th>\n",
       "      <th>model</th>\n",
       "      <th>screen_size</th>\n",
       "      <th>color</th>\n",
       "      <th>harddisk</th>\n",
       "      <th>cpu</th>\n",
       "      <th>ram</th>\n",
       "      <th>OS</th>\n",
       "      <th>special_features</th>\n",
       "      <th>graphics</th>\n",
       "      <th>graphics_coprocessor</th>\n",
       "      <th>cpu_speed</th>\n",
       "      <th>rating</th>\n",
       "      <th>price</th>\n",
       "    </tr>\n",
       "  </thead>\n",
       "  <tbody>\n",
       "    <tr>\n",
       "      <th>0</th>\n",
       "      <td>ROKC</td>\n",
       "      <td>NaN</td>\n",
       "      <td>14 Inches</td>\n",
       "      <td>Blue</td>\n",
       "      <td>1000 GB</td>\n",
       "      <td>Intel Core i7</td>\n",
       "      <td>8 GB</td>\n",
       "      <td>Windows 11</td>\n",
       "      <td>NaN</td>\n",
       "      <td>Integrated</td>\n",
       "      <td>Intel</td>\n",
       "      <td>1.2 GHz</td>\n",
       "      <td>NaN</td>\n",
       "      <td>$589.99</td>\n",
       "    </tr>\n",
       "    <tr>\n",
       "      <th>1</th>\n",
       "      <td>HP</td>\n",
       "      <td>NaN</td>\n",
       "      <td>15.6 Inches</td>\n",
       "      <td>Silver</td>\n",
       "      <td>1000 GB</td>\n",
       "      <td>Intel Core i5</td>\n",
       "      <td>64 GB</td>\n",
       "      <td>Windows 11 Pro</td>\n",
       "      <td>Backlit Keyboard</td>\n",
       "      <td>Integrated</td>\n",
       "      <td>Intel</td>\n",
       "      <td>NaN</td>\n",
       "      <td>4.5</td>\n",
       "      <td>$999.99</td>\n",
       "    </tr>\n",
       "    <tr>\n",
       "      <th>2</th>\n",
       "      <td>MSI</td>\n",
       "      <td>Vector GP66 12UGS-267</td>\n",
       "      <td>15.66 Inches</td>\n",
       "      <td>Core Black</td>\n",
       "      <td>NaN</td>\n",
       "      <td>Intel Core i9</td>\n",
       "      <td>32 GB</td>\n",
       "      <td>Windows 11 Home</td>\n",
       "      <td>NaN</td>\n",
       "      <td>Dedicated</td>\n",
       "      <td>NaN</td>\n",
       "      <td>1.8 GHz</td>\n",
       "      <td>5.0</td>\n",
       "      <td>$1,599.00</td>\n",
       "    </tr>\n",
       "    <tr>\n",
       "      <th>3</th>\n",
       "      <td>Apple</td>\n",
       "      <td>MacBook Air</td>\n",
       "      <td>13.3 Inches</td>\n",
       "      <td>Silver</td>\n",
       "      <td>256 GB</td>\n",
       "      <td>Unknown</td>\n",
       "      <td>8 GB</td>\n",
       "      <td>Mac OS</td>\n",
       "      <td>Backlit Keyboard</td>\n",
       "      <td>Integrated</td>\n",
       "      <td>NaN</td>\n",
       "      <td>NaN</td>\n",
       "      <td>4.8</td>\n",
       "      <td>$689.99</td>\n",
       "    </tr>\n",
       "    <tr>\n",
       "      <th>4</th>\n",
       "      <td>Apple</td>\n",
       "      <td>MacBook Air</td>\n",
       "      <td>15.3 Inches</td>\n",
       "      <td>Midnight</td>\n",
       "      <td>256 GB</td>\n",
       "      <td>Unknown</td>\n",
       "      <td>8 GB</td>\n",
       "      <td>Mac OS</td>\n",
       "      <td>NaN</td>\n",
       "      <td>Integrated</td>\n",
       "      <td>NaN</td>\n",
       "      <td>NaN</td>\n",
       "      <td>4.8</td>\n",
       "      <td>$1,144.48</td>\n",
       "    </tr>\n",
       "    <tr>\n",
       "      <th>5</th>\n",
       "      <td>Acer</td>\n",
       "      <td>A315-24P-R7VH</td>\n",
       "      <td>15.6 Inches</td>\n",
       "      <td>Silver</td>\n",
       "      <td>128 GB</td>\n",
       "      <td>Ryzen 3</td>\n",
       "      <td>8 GB</td>\n",
       "      <td>Windows 11 S</td>\n",
       "      <td>Backlit Keyboard</td>\n",
       "      <td>Integrated</td>\n",
       "      <td>NaN</td>\n",
       "      <td>NaN</td>\n",
       "      <td>4.5</td>\n",
       "      <td>$299.99</td>\n",
       "    </tr>\n",
       "    <tr>\n",
       "      <th>6</th>\n",
       "      <td>Apple</td>\n",
       "      <td>MacBook Pro</td>\n",
       "      <td>13.3 Inches</td>\n",
       "      <td>Space Gray</td>\n",
       "      <td>256 GB</td>\n",
       "      <td>Unknown</td>\n",
       "      <td>8 GB</td>\n",
       "      <td>Mac OS</td>\n",
       "      <td>Backlit Keyboard</td>\n",
       "      <td>Integrated</td>\n",
       "      <td>NaN</td>\n",
       "      <td>NaN</td>\n",
       "      <td>4.7</td>\n",
       "      <td>$965.08</td>\n",
       "    </tr>\n",
       "    <tr>\n",
       "      <th>7</th>\n",
       "      <td>Acer</td>\n",
       "      <td>CB315-3HT</td>\n",
       "      <td>15.6 Inches</td>\n",
       "      <td>Silver</td>\n",
       "      <td>64 GB</td>\n",
       "      <td>Celeron N4020</td>\n",
       "      <td>4 GB</td>\n",
       "      <td>Chrome OS</td>\n",
       "      <td>Support Stylus</td>\n",
       "      <td>Integrated</td>\n",
       "      <td>NaN</td>\n",
       "      <td>NaN</td>\n",
       "      <td>4.4</td>\n",
       "      <td>$239.99</td>\n",
       "    </tr>\n",
       "    <tr>\n",
       "      <th>8</th>\n",
       "      <td>ASUS</td>\n",
       "      <td>ROG Strix G16</td>\n",
       "      <td>16 Inches</td>\n",
       "      <td>Eclipse Gray</td>\n",
       "      <td>512 GB</td>\n",
       "      <td>Core i7</td>\n",
       "      <td>16 GB</td>\n",
       "      <td>Windows 11 Home</td>\n",
       "      <td>Backlit Keyboard</td>\n",
       "      <td>Dedicated</td>\n",
       "      <td>NaN</td>\n",
       "      <td>NaN</td>\n",
       "      <td>4.4</td>\n",
       "      <td>$1,274.03</td>\n",
       "    </tr>\n",
       "    <tr>\n",
       "      <th>9</th>\n",
       "      <td>acer</td>\n",
       "      <td>A515-56-347N</td>\n",
       "      <td>15.6 Inches</td>\n",
       "      <td>Silver</td>\n",
       "      <td>128 GB</td>\n",
       "      <td>Core I3 1115G4</td>\n",
       "      <td>8 GB</td>\n",
       "      <td>Windows 11 S</td>\n",
       "      <td>Amazon Alexa</td>\n",
       "      <td>Integrated</td>\n",
       "      <td>NaN</td>\n",
       "      <td>NaN</td>\n",
       "      <td>4.3</td>\n",
       "      <td>$299.99</td>\n",
       "    </tr>\n",
       "  </tbody>\n",
       "</table>\n",
       "</div>"
      ],
      "text/plain": [
       "   brand                  model   screen_size         color harddisk  \\\n",
       "0   ROKC                    NaN     14 Inches          Blue  1000 GB   \n",
       "1     HP                    NaN   15.6 Inches        Silver  1000 GB   \n",
       "2    MSI  Vector GP66 12UGS-267  15.66 Inches    Core Black      NaN   \n",
       "3  Apple            MacBook Air   13.3 Inches        Silver   256 GB   \n",
       "4  Apple            MacBook Air   15.3 Inches      Midnight   256 GB   \n",
       "5   Acer          A315-24P-R7VH   15.6 Inches        Silver   128 GB   \n",
       "6  Apple            MacBook Pro   13.3 Inches    Space Gray   256 GB   \n",
       "7   Acer              CB315-3HT   15.6 Inches        Silver    64 GB   \n",
       "8   ASUS          ROG Strix G16     16 Inches  Eclipse Gray   512 GB   \n",
       "9   acer           A515-56-347N   15.6 Inches        Silver   128 GB   \n",
       "\n",
       "              cpu    ram               OS  special_features    graphics  \\\n",
       "0   Intel Core i7   8 GB       Windows 11               NaN  Integrated   \n",
       "1   Intel Core i5  64 GB   Windows 11 Pro  Backlit Keyboard  Integrated   \n",
       "2   Intel Core i9  32 GB  Windows 11 Home               NaN   Dedicated   \n",
       "3         Unknown   8 GB           Mac OS  Backlit Keyboard  Integrated   \n",
       "4         Unknown   8 GB           Mac OS               NaN  Integrated   \n",
       "5         Ryzen 3   8 GB     Windows 11 S  Backlit Keyboard  Integrated   \n",
       "6         Unknown   8 GB           Mac OS  Backlit Keyboard  Integrated   \n",
       "7   Celeron N4020   4 GB        Chrome OS    Support Stylus  Integrated   \n",
       "8         Core i7  16 GB  Windows 11 Home  Backlit Keyboard   Dedicated   \n",
       "9  Core I3 1115G4   8 GB     Windows 11 S      Amazon Alexa  Integrated   \n",
       "\n",
       "  graphics_coprocessor cpu_speed  rating       price  \n",
       "0                Intel   1.2 GHz     NaN    $589.99   \n",
       "1                Intel       NaN     4.5    $999.99   \n",
       "2                  NaN   1.8 GHz     5.0  $1,599.00   \n",
       "3                  NaN       NaN     4.8    $689.99   \n",
       "4                  NaN       NaN     4.8  $1,144.48   \n",
       "5                  NaN       NaN     4.5    $299.99   \n",
       "6                  NaN       NaN     4.7    $965.08   \n",
       "7                  NaN       NaN     4.4    $239.99   \n",
       "8                  NaN       NaN     4.4  $1,274.03   \n",
       "9                  NaN       NaN     4.3    $299.99   "
      ]
     },
     "execution_count": 110,
     "metadata": {},
     "output_type": "execute_result"
    }
   ],
   "source": [
    "# Display the first 10 rows of the dataset\n",
    "data.head(10)"
   ]
  },
  {
   "cell_type": "code",
   "execution_count": 111,
   "id": "c5a5616e-d965-4ded-866e-923ca2e8f49b",
   "metadata": {},
   "outputs": [
    {
     "data": {
      "text/html": [
       "<div>\n",
       "<style scoped>\n",
       "    .dataframe tbody tr th:only-of-type {\n",
       "        vertical-align: middle;\n",
       "    }\n",
       "\n",
       "    .dataframe tbody tr th {\n",
       "        vertical-align: top;\n",
       "    }\n",
       "\n",
       "    .dataframe thead th {\n",
       "        text-align: right;\n",
       "    }\n",
       "</style>\n",
       "<table border=\"1\" class=\"dataframe\">\n",
       "  <thead>\n",
       "    <tr style=\"text-align: right;\">\n",
       "      <th></th>\n",
       "      <th>brand</th>\n",
       "      <th>model</th>\n",
       "      <th>screen_size</th>\n",
       "      <th>color</th>\n",
       "      <th>harddisk</th>\n",
       "      <th>cpu</th>\n",
       "      <th>ram</th>\n",
       "      <th>OS</th>\n",
       "      <th>special_features</th>\n",
       "      <th>graphics</th>\n",
       "      <th>graphics_coprocessor</th>\n",
       "      <th>cpu_speed</th>\n",
       "      <th>rating</th>\n",
       "      <th>price</th>\n",
       "    </tr>\n",
       "  </thead>\n",
       "  <tbody>\n",
       "    <tr>\n",
       "      <th>4436</th>\n",
       "      <td>HP</td>\n",
       "      <td>NaN</td>\n",
       "      <td>15.6 Inches</td>\n",
       "      <td>Black</td>\n",
       "      <td>1000 GB</td>\n",
       "      <td>Pentium N5000</td>\n",
       "      <td>16 GB</td>\n",
       "      <td>Windows 11</td>\n",
       "      <td>NaN</td>\n",
       "      <td>Integrated</td>\n",
       "      <td>Intel</td>\n",
       "      <td>1.1 GHz</td>\n",
       "      <td>4.4</td>\n",
       "      <td>$459.99</td>\n",
       "    </tr>\n",
       "    <tr>\n",
       "      <th>4437</th>\n",
       "      <td>Dell</td>\n",
       "      <td>Latitude 3420 Laptop</td>\n",
       "      <td>14 Inches</td>\n",
       "      <td>Black</td>\n",
       "      <td>2000 GB</td>\n",
       "      <td>Core i5</td>\n",
       "      <td>32 GB</td>\n",
       "      <td>Windows 11 Pro</td>\n",
       "      <td>Wifi &amp; Bluetooth</td>\n",
       "      <td>Nvidia GeForce MX250</td>\n",
       "      <td>NaN</td>\n",
       "      <td>NaN</td>\n",
       "      <td>NaN</td>\n",
       "      <td>$1,058.99</td>\n",
       "    </tr>\n",
       "    <tr>\n",
       "      <th>4438</th>\n",
       "      <td>MSI</td>\n",
       "      <td>Vector GP66 12UGS-267</td>\n",
       "      <td>15.66 Inches</td>\n",
       "      <td>Core Black</td>\n",
       "      <td>NaN</td>\n",
       "      <td>Intel Core i9</td>\n",
       "      <td>32 GB</td>\n",
       "      <td>Windows 11 Home</td>\n",
       "      <td>NaN</td>\n",
       "      <td>Dedicated</td>\n",
       "      <td>NaN</td>\n",
       "      <td>1.8 GHz</td>\n",
       "      <td>5.0</td>\n",
       "      <td>$1,599.00</td>\n",
       "    </tr>\n",
       "    <tr>\n",
       "      <th>4439</th>\n",
       "      <td>MSI</td>\n",
       "      <td>Stealth GS66 12UGS-025</td>\n",
       "      <td>15.6 Inches</td>\n",
       "      <td>Core Black</td>\n",
       "      <td>NaN</td>\n",
       "      <td>Intel Core i9</td>\n",
       "      <td>32 GB</td>\n",
       "      <td>Windows 11 Home</td>\n",
       "      <td>NaN</td>\n",
       "      <td>Dedicated</td>\n",
       "      <td>NVIDIA GeForce RTX 3070</td>\n",
       "      <td>1.8 GHz</td>\n",
       "      <td>1.0</td>\n",
       "      <td>$1,699.00</td>\n",
       "    </tr>\n",
       "    <tr>\n",
       "      <th>4440</th>\n",
       "      <td>MSI</td>\n",
       "      <td>Vector GP66 12UGS-267</td>\n",
       "      <td>15.66 Inches</td>\n",
       "      <td>Core Black</td>\n",
       "      <td>NaN</td>\n",
       "      <td>Intel Core i9</td>\n",
       "      <td>32 GB</td>\n",
       "      <td>Windows 11 Home</td>\n",
       "      <td>NaN</td>\n",
       "      <td>Dedicated</td>\n",
       "      <td>NaN</td>\n",
       "      <td>1.8 GHz</td>\n",
       "      <td>5.0</td>\n",
       "      <td>$1,599.00</td>\n",
       "    </tr>\n",
       "    <tr>\n",
       "      <th>4441</th>\n",
       "      <td>MSI</td>\n",
       "      <td>Stealth GS66 12UGS-025</td>\n",
       "      <td>15.6 Inches</td>\n",
       "      <td>Core Black</td>\n",
       "      <td>NaN</td>\n",
       "      <td>Intel Core i9</td>\n",
       "      <td>32 GB</td>\n",
       "      <td>Windows 11 Home</td>\n",
       "      <td>NaN</td>\n",
       "      <td>Dedicated</td>\n",
       "      <td>NVIDIA GeForce RTX 3070</td>\n",
       "      <td>1.8 GHz</td>\n",
       "      <td>1.0</td>\n",
       "      <td>$1,699.00</td>\n",
       "    </tr>\n",
       "    <tr>\n",
       "      <th>4442</th>\n",
       "      <td>ROKC</td>\n",
       "      <td>NaN</td>\n",
       "      <td>14 Inches</td>\n",
       "      <td>Blue</td>\n",
       "      <td>1000 GB</td>\n",
       "      <td>Intel Core i7</td>\n",
       "      <td>8 GB</td>\n",
       "      <td>Windows 11</td>\n",
       "      <td>NaN</td>\n",
       "      <td>Integrated</td>\n",
       "      <td>Intel</td>\n",
       "      <td>1.2 GHz</td>\n",
       "      <td>NaN</td>\n",
       "      <td>$589.99</td>\n",
       "    </tr>\n",
       "    <tr>\n",
       "      <th>4443</th>\n",
       "      <td>Dell</td>\n",
       "      <td>Inspiron 3511 Laptop</td>\n",
       "      <td>15.6 Inches</td>\n",
       "      <td>Black</td>\n",
       "      <td>512 GB</td>\n",
       "      <td>Core i3</td>\n",
       "      <td>8 GB</td>\n",
       "      <td>Windows 10 Home</td>\n",
       "      <td>Wifi &amp; Bluetooth</td>\n",
       "      <td>Integrated</td>\n",
       "      <td>NaN</td>\n",
       "      <td>NaN</td>\n",
       "      <td>NaN</td>\n",
       "      <td>$591.99</td>\n",
       "    </tr>\n",
       "    <tr>\n",
       "      <th>4444</th>\n",
       "      <td>Dell</td>\n",
       "      <td>Latitude 3420 Laptop</td>\n",
       "      <td>14 Inches</td>\n",
       "      <td>NaN</td>\n",
       "      <td>512 GB</td>\n",
       "      <td>Core i5</td>\n",
       "      <td>8 GB</td>\n",
       "      <td>Windows 10 Pro</td>\n",
       "      <td>NaN</td>\n",
       "      <td>Integrated</td>\n",
       "      <td>Intel Integrated Graphics</td>\n",
       "      <td>0.9 GHz</td>\n",
       "      <td>NaN</td>\n",
       "      <td>$1,771.99</td>\n",
       "    </tr>\n",
       "    <tr>\n",
       "      <th>4445</th>\n",
       "      <td>Dell</td>\n",
       "      <td>Latitude 5430 Laptop</td>\n",
       "      <td>14 Inches</td>\n",
       "      <td>Black</td>\n",
       "      <td>256 GB</td>\n",
       "      <td>Core i5</td>\n",
       "      <td>NaN</td>\n",
       "      <td>Windows 11 Pro</td>\n",
       "      <td>NaN</td>\n",
       "      <td>Integrated</td>\n",
       "      <td>Intel Integrated Graphics</td>\n",
       "      <td>3.3 GHz</td>\n",
       "      <td>NaN</td>\n",
       "      <td>$938.99</td>\n",
       "    </tr>\n",
       "  </tbody>\n",
       "</table>\n",
       "</div>"
      ],
      "text/plain": [
       "     brand                   model   screen_size       color harddisk  \\\n",
       "4436    HP                     NaN   15.6 Inches       Black  1000 GB   \n",
       "4437  Dell    Latitude 3420 Laptop     14 Inches       Black  2000 GB   \n",
       "4438   MSI   Vector GP66 12UGS-267  15.66 Inches  Core Black      NaN   \n",
       "4439   MSI  Stealth GS66 12UGS-025   15.6 Inches  Core Black      NaN   \n",
       "4440   MSI   Vector GP66 12UGS-267  15.66 Inches  Core Black      NaN   \n",
       "4441   MSI  Stealth GS66 12UGS-025   15.6 Inches  Core Black      NaN   \n",
       "4442  ROKC                     NaN     14 Inches        Blue  1000 GB   \n",
       "4443  Dell    Inspiron 3511 Laptop   15.6 Inches       Black   512 GB   \n",
       "4444  Dell    Latitude 3420 Laptop     14 Inches         NaN   512 GB   \n",
       "4445  Dell    Latitude 5430 Laptop     14 Inches       Black   256 GB   \n",
       "\n",
       "                cpu    ram               OS  special_features  \\\n",
       "4436  Pentium N5000  16 GB       Windows 11               NaN   \n",
       "4437        Core i5  32 GB   Windows 11 Pro  Wifi & Bluetooth   \n",
       "4438  Intel Core i9  32 GB  Windows 11 Home               NaN   \n",
       "4439  Intel Core i9  32 GB  Windows 11 Home               NaN   \n",
       "4440  Intel Core i9  32 GB  Windows 11 Home               NaN   \n",
       "4441  Intel Core i9  32 GB  Windows 11 Home               NaN   \n",
       "4442  Intel Core i7   8 GB       Windows 11               NaN   \n",
       "4443        Core i3   8 GB  Windows 10 Home  Wifi & Bluetooth   \n",
       "4444        Core i5   8 GB   Windows 10 Pro               NaN   \n",
       "4445        Core i5    NaN   Windows 11 Pro               NaN   \n",
       "\n",
       "                  graphics       graphics_coprocessor cpu_speed  rating  \\\n",
       "4436            Integrated                      Intel   1.1 GHz     4.4   \n",
       "4437  Nvidia GeForce MX250                        NaN       NaN     NaN   \n",
       "4438             Dedicated                        NaN   1.8 GHz     5.0   \n",
       "4439             Dedicated    NVIDIA GeForce RTX 3070   1.8 GHz     1.0   \n",
       "4440             Dedicated                        NaN   1.8 GHz     5.0   \n",
       "4441             Dedicated    NVIDIA GeForce RTX 3070   1.8 GHz     1.0   \n",
       "4442            Integrated                      Intel   1.2 GHz     NaN   \n",
       "4443            Integrated                        NaN       NaN     NaN   \n",
       "4444            Integrated  Intel Integrated Graphics   0.9 GHz     NaN   \n",
       "4445            Integrated  Intel Integrated Graphics   3.3 GHz     NaN   \n",
       "\n",
       "           price  \n",
       "4436    $459.99   \n",
       "4437  $1,058.99   \n",
       "4438  $1,599.00   \n",
       "4439  $1,699.00   \n",
       "4440  $1,599.00   \n",
       "4441  $1,699.00   \n",
       "4442    $589.99   \n",
       "4443    $591.99   \n",
       "4444  $1,771.99   \n",
       "4445    $938.99   "
      ]
     },
     "execution_count": 111,
     "metadata": {},
     "output_type": "execute_result"
    }
   ],
   "source": [
    "# Display the last 10 rows of the dataset\n",
    "data.tail(10)"
   ]
  },
  {
   "cell_type": "code",
   "execution_count": 112,
   "id": "fddc9688-50a6-4e0c-ac6f-18221cc43684",
   "metadata": {},
   "outputs": [
    {
     "data": {
      "text/plain": [
       "Index(['brand', 'model', 'screen_size', 'color', 'harddisk', 'cpu', 'ram',\n",
       "       'OS', 'special_features', 'graphics', 'graphics_coprocessor',\n",
       "       'cpu_speed', 'rating', 'price'],\n",
       "      dtype='object')"
      ]
     },
     "execution_count": 112,
     "metadata": {},
     "output_type": "execute_result"
    }
   ],
   "source": [
    "# Prints the list of column names of the dataset\n",
    "data.columns"
   ]
  },
  {
   "cell_type": "code",
   "execution_count": 113,
   "id": "7bcfcab7-0eb2-4102-b905-032a4afb68b2",
   "metadata": {},
   "outputs": [
    {
     "name": "stdout",
     "output_type": "stream",
     "text": [
      "<class 'pandas.core.frame.DataFrame'>\n",
      "RangeIndex: 4446 entries, 0 to 4445\n",
      "Data columns (total 14 columns):\n",
      " #   Column                Non-Null Count  Dtype  \n",
      "---  ------                --------------  -----  \n",
      " 0   brand                 4446 non-null   object \n",
      " 1   model                 3282 non-null   object \n",
      " 2   screen_size           4417 non-null   object \n",
      " 3   color                 3867 non-null   object \n",
      " 4   harddisk              3870 non-null   object \n",
      " 5   cpu                   4346 non-null   object \n",
      " 6   ram                   4385 non-null   object \n",
      " 7   OS                    4420 non-null   object \n",
      " 8   special_features      2054 non-null   object \n",
      " 9   graphics              4381 non-null   object \n",
      " 10  graphics_coprocessor  2574 non-null   object \n",
      " 11  cpu_speed             1520 non-null   object \n",
      " 12  rating                2174 non-null   float64\n",
      " 13  price                 4441 non-null   object \n",
      "dtypes: float64(1), object(13)\n",
      "memory usage: 486.4+ KB\n"
     ]
    }
   ],
   "source": [
    "# Displays the summary of the dataset\n",
    "data.info()"
   ]
  },
  {
   "cell_type": "code",
   "execution_count": 114,
   "id": "73119895-11d6-48c0-88ca-808e662564a5",
   "metadata": {},
   "outputs": [
    {
     "data": {
      "text/plain": [
       "(4446, 14)"
      ]
     },
     "execution_count": 114,
     "metadata": {},
     "output_type": "execute_result"
    }
   ],
   "source": [
    "# Displays the dimensions of the dataset as a tuple\n",
    "data.shape"
   ]
  },
  {
   "cell_type": "code",
   "execution_count": 115,
   "id": "def3ff6e-2c88-4ce9-887e-1cccd4674e6c",
   "metadata": {},
   "outputs": [
    {
     "data": {
      "text/plain": [
       "brand                    object\n",
       "model                    object\n",
       "screen_size              object\n",
       "color                    object\n",
       "harddisk                 object\n",
       "cpu                      object\n",
       "ram                      object\n",
       "OS                       object\n",
       "special_features         object\n",
       "graphics                 object\n",
       "graphics_coprocessor     object\n",
       "cpu_speed                object\n",
       "rating                  float64\n",
       "price                    object\n",
       "dtype: object"
      ]
     },
     "execution_count": 115,
     "metadata": {},
     "output_type": "execute_result"
    }
   ],
   "source": [
    "# Displays the data types of each column\n",
    "data.dtypes"
   ]
  },
  {
   "cell_type": "code",
   "execution_count": 116,
   "id": "bd72dccb-a148-4e2a-813d-368e2c676232",
   "metadata": {},
   "outputs": [
    {
     "data": {
      "text/html": [
       "<div>\n",
       "<style scoped>\n",
       "    .dataframe tbody tr th:only-of-type {\n",
       "        vertical-align: middle;\n",
       "    }\n",
       "\n",
       "    .dataframe tbody tr th {\n",
       "        vertical-align: top;\n",
       "    }\n",
       "\n",
       "    .dataframe thead th {\n",
       "        text-align: right;\n",
       "    }\n",
       "</style>\n",
       "<table border=\"1\" class=\"dataframe\">\n",
       "  <thead>\n",
       "    <tr style=\"text-align: right;\">\n",
       "      <th></th>\n",
       "      <th>rating</th>\n",
       "    </tr>\n",
       "  </thead>\n",
       "  <tbody>\n",
       "    <tr>\n",
       "      <th>count</th>\n",
       "      <td>2174.000000</td>\n",
       "    </tr>\n",
       "    <tr>\n",
       "      <th>mean</th>\n",
       "      <td>4.086891</td>\n",
       "    </tr>\n",
       "    <tr>\n",
       "      <th>std</th>\n",
       "      <td>1.165337</td>\n",
       "    </tr>\n",
       "    <tr>\n",
       "      <th>min</th>\n",
       "      <td>1.000000</td>\n",
       "    </tr>\n",
       "    <tr>\n",
       "      <th>25%</th>\n",
       "      <td>4.000000</td>\n",
       "    </tr>\n",
       "    <tr>\n",
       "      <th>50%</th>\n",
       "      <td>4.500000</td>\n",
       "    </tr>\n",
       "    <tr>\n",
       "      <th>75%</th>\n",
       "      <td>5.000000</td>\n",
       "    </tr>\n",
       "    <tr>\n",
       "      <th>max</th>\n",
       "      <td>5.000000</td>\n",
       "    </tr>\n",
       "  </tbody>\n",
       "</table>\n",
       "</div>"
      ],
      "text/plain": [
       "            rating\n",
       "count  2174.000000\n",
       "mean      4.086891\n",
       "std       1.165337\n",
       "min       1.000000\n",
       "25%       4.000000\n",
       "50%       4.500000\n",
       "75%       5.000000\n",
       "max       5.000000"
      ]
     },
     "execution_count": 116,
     "metadata": {},
     "output_type": "execute_result"
    }
   ],
   "source": [
    "# Generating descriptive statistics of the numerical columns in a dataset\n",
    "data.describe()"
   ]
  },
  {
   "cell_type": "markdown",
   "id": "eecb4f39-39fa-4caa-b4e2-37fa3fda7803",
   "metadata": {},
   "source": [
    "## Step 4 : Data Cleaning (filteration / manipulation) \n",
    "Clean the dataset to handle missing or inconsistent values, ensuring data accuracy."
   ]
  },
  {
   "cell_type": "markdown",
   "id": "7a0f361a-6932-431c-8cde-adec1dab5847",
   "metadata": {},
   "source": [
    "### 4.1 :  Brand Column"
   ]
  },
  {
   "cell_type": "code",
   "execution_count": 117,
   "id": "b8bfc219-3b30-43ff-83d8-d367aa50af82",
   "metadata": {},
   "outputs": [
    {
     "name": "stdout",
     "output_type": "stream",
     "text": [
      "Total unique Brands:  50\n"
     ]
    },
    {
     "data": {
      "text/plain": [
       "brand\n",
       "Dell                             1581\n",
       "HP                                804\n",
       "ROKC                              637\n",
       "MSI                               473\n",
       "Lenovo                            308\n",
       "ASUS                              160\n",
       "DELL                              147\n",
       "acer                              108\n",
       "LG                                 39\n",
       "Apple                              29\n",
       "SAMSUNG                            23\n",
       "Microsoft                          15\n",
       "Alienware                          14\n",
       "Panasonic                          12\n",
       "Acer                               11\n",
       "Gigabyte                           11\n",
       "Toughbook                          11\n",
       "hp                                  6\n",
       "Razer                               6\n",
       "LENOVO                              6\n",
       "lenovo                              4\n",
       "Latitude                            3\n",
       "Luqeeg                              3\n",
       "SHOXLAB                             2\n",
       "CTL                                 2\n",
       "Computer Upgrade King               2\n",
       "dell                                2\n",
       "IVIEW                               2\n",
       "Quality Refurbished Computers       2\n",
       "Asus                                2\n",
       "Gateway                             2\n",
       "Elo                                 1\n",
       "Mytrix                              1\n",
       "JTD                                 1\n",
       "XAMMUE                              1\n",
       "asus                                1\n",
       "Tocosy                              1\n",
       "MAINGEAR                            1\n",
       "GizPro                              1\n",
       "Carlisle FoodService Products       1\n",
       "MICROTELLA                          1\n",
       "XPG                                 1\n",
       "VAIO                                1\n",
       "ONN                                 1\n",
       "Corsair                             1\n",
       "Goldengulf                          1\n",
       "LPT                                 1\n",
       "Best Notebooks                      1\n",
       "AWOW                                1\n",
       "TOPOSH                              1\n",
       "Name: count, dtype: int64"
      ]
     },
     "execution_count": 117,
     "metadata": {},
     "output_type": "execute_result"
    }
   ],
   "source": [
    "# Print the total number of unique brands with a comment\n",
    "print('Total unique Brands: ', len(data.brand.value_counts()))\n",
    "data.brand.value_counts()"
   ]
  },
  {
   "cell_type": "markdown",
   "id": "8a5163fb-dde0-42db-b24c-c197990d05cc",
   "metadata": {},
   "source": [
    "* **There are some inconsistencies in brand names, some names are repeating with uppercase and lowercase charachers, We will correct the brand names to unify them (for example, \"Dell\", \"dell\", \"DELL\" are the same word, so they are all transformed to \"dell\")**"
   ]
  },
  {
   "cell_type": "code",
   "execution_count": 118,
   "id": "7ac31e42-c4d8-495c-adfc-9135d6c04461",
   "metadata": {},
   "outputs": [
    {
     "data": {
      "text/plain": [
       "array(['ASUS', 'AWOW', 'Acer', 'Alienware', 'Apple', 'Asus',\n",
       "       'Best Notebooks', 'CTL', 'Carlisle FoodService Products',\n",
       "       'Computer Upgrade King', 'Corsair', 'DELL', 'Dell', 'Elo',\n",
       "       'Gateway', 'Gigabyte', 'GizPro', 'Goldengulf', 'HP', 'IVIEW',\n",
       "       'JTD', 'LENOVO', 'LG', 'LPT', 'Latitude', 'Lenovo', 'Luqeeg',\n",
       "       'MAINGEAR', 'MICROTELLA', 'MSI', 'Microsoft', 'Mytrix', 'ONN',\n",
       "       'Panasonic', 'Quality Refurbished Computers', 'ROKC', 'Razer',\n",
       "       'SAMSUNG', 'SHOXLAB', 'TOPOSH', 'Tocosy', 'Toughbook', 'VAIO',\n",
       "       'XAMMUE', 'XPG', 'acer', 'asus', 'dell', 'hp', 'lenovo'],\n",
       "      dtype=object)"
      ]
     },
     "execution_count": 118,
     "metadata": {},
     "output_type": "execute_result"
    }
   ],
   "source": [
    "# Sort the DataFrame by the 'Brand' column in ascending order\n",
    "brands = data.brand.unique()\n",
    "brands.sort()\n",
    "brands"
   ]
  },
  {
   "cell_type": "markdown",
   "id": "12eac3fc-3619-4b83-851d-4ca5b47bc86b",
   "metadata": {},
   "source": [
    "**we can see repetition of ASUS, DELL, ACER, DELL, HP, LENOVO etc.**"
   ]
  },
  {
   "cell_type": "code",
   "execution_count": 119,
   "id": "9170fddd-2a78-4973-9b2f-14be2948847f",
   "metadata": {},
   "outputs": [
    {
     "data": {
      "text/plain": [
       "array(['acer', 'alienware', 'apple', 'asus', 'awow', 'best notebooks',\n",
       "       'carlisle foodservice products', 'computer upgrade king',\n",
       "       'corsair', 'ctl', 'dell', 'elo', 'gateway', 'gigabyte', 'gizpro',\n",
       "       'goldengulf', 'hp', 'iview', 'jtd', 'latitude', 'lenovo', 'lg',\n",
       "       'lpt', 'luqeeg', 'maingear', 'microsoft', 'microtella', 'msi',\n",
       "       'mytrix', 'onn', 'panasonic', 'quality refurbished computers',\n",
       "       'razer', 'rokc', 'samsung', 'shoxlab', 'tocosy', 'toposh', 'vaio',\n",
       "       'xammue', 'xpg'], dtype=object)"
      ]
     },
     "execution_count": 119,
     "metadata": {},
     "output_type": "execute_result"
    }
   ],
   "source": [
    "# convert to lower case\n",
    "data.brand = data.brand.str.lower()\n",
    "\n",
    "# replace Toughbook which is a line of rugged computers produced and marketed by Panasonic Corporation.\n",
    "data.brand.replace('toughbook','panasonic',inplace=True)\n",
    "\n",
    "# remove trailing white spaces\n",
    "data.brand = data.brand.str.strip()\n",
    "\n",
    "brands2 = data.brand.unique()\n",
    "brands2.sort()\n",
    "brands2"
   ]
  },
  {
   "cell_type": "markdown",
   "id": "acf43550-aae3-4edf-8620-e6b012d523e2",
   "metadata": {},
   "source": [
    "* **We will eliminate some barands data, many of these (which contain little data) are actually \"stores\" or \"companies\" dedicated to refurbish. For this analysis they are of no interest. Another brand that stands out is \"ROKC\" which when researching on Amazon is a store that sells refurbished computers mostly Lenovo and HP. So We will focus on computers which sold by their brands.**"
   ]
  },
  {
   "cell_type": "code",
   "execution_count": 130,
   "id": "8daa2d99-0245-4c4c-9817-7c8f5cb40647",
   "metadata": {},
   "outputs": [],
   "source": [
    "brand_counts = data['brand'].value_counts()\n",
    "\n",
    "min_ocurrences = 6\n",
    "\n",
    "# Filter the data for refurbished \n",
    "filtered_data = data[data['brand'].isin(brand_counts[brand_counts > min_ocurrences].index)]"
   ]
  },
  {
   "cell_type": "code",
   "execution_count": 131,
   "id": "71241b3f-e845-4f55-aff0-b4cf7facba84",
   "metadata": {},
   "outputs": [
    {
     "data": {
      "text/plain": [
       "brand\n",
       "dell         1730\n",
       "hp            810\n",
       "msi           473\n",
       "lenovo        318\n",
       "asus          163\n",
       "acer          119\n",
       "lg             39\n",
       "apple          29\n",
       "samsung        23\n",
       "panasonic      23\n",
       "microsoft      15\n",
       "alienware      14\n",
       "gigabyte       11\n",
       "Name: count, dtype: int64"
      ]
     },
     "execution_count": 131,
     "metadata": {},
     "output_type": "execute_result"
    }
   ],
   "source": [
    "filtered_data['brand'].value_counts()"
   ]
  },
  {
   "cell_type": "code",
   "execution_count": 132,
   "id": "603a1ab7-2481-41c5-908f-d2a1e030ec46",
   "metadata": {},
   "outputs": [
    {
     "name": "stdout",
     "output_type": "stream",
     "text": [
      "brand\n",
      "dell         1730\n",
      "hp            810\n",
      "msi           473\n",
      "lenovo        318\n",
      "asus          163\n",
      "acer          119\n",
      "lg             39\n",
      "apple          29\n",
      "samsung        23\n",
      "panasonic      23\n",
      "microsoft      15\n",
      "alienware      14\n",
      "gigabyte       11\n",
      "Name: count, dtype: int64\n",
      "Total rows: 3767\n",
      "Now total unique Brands:  13\n"
     ]
    }
   ],
   "source": [
    "#Researching the ROKC brand on Amazon, I found that they are a company that refurbish laptops and sell on Amazon.\n",
    "#This are not new laptops, either this aren't sell by the original brand. So I decide to drop it\n",
    "\n",
    "\n",
    "data = filtered_data[filtered_data['brand'] != 'rokc']\n",
    "\n",
    "\n",
    "print(data.brand.value_counts())\n",
    "print('Total rows: ' + str(data.shape[0]))\n",
    "print('Now total unique Brands: ', len(data.brand.value_counts()))\n",
    "\n",
    "#3767 rows\n",
    "#13 brand"
   ]
  },
  {
   "cell_type": "code",
   "execution_count": 133,
   "id": "5be38221-2f5a-4d25-ae01-755672fca606",
   "metadata": {},
   "outputs": [
    {
     "data": {
      "text/plain": [
       "1       1000.0\n",
       "2          NaN\n",
       "3        256.0\n",
       "4        256.0\n",
       "5        128.0\n",
       "         ...  \n",
       "4440       NaN\n",
       "4441       NaN\n",
       "4443     512.0\n",
       "4444     512.0\n",
       "4445     256.0\n",
       "Name: harddisk, Length: 3767, dtype: float64"
      ]
     },
     "execution_count": 133,
     "metadata": {},
     "output_type": "execute_result"
    }
   ],
   "source": [
    "data.harddisk"
   ]
  },
  {
   "cell_type": "code",
   "execution_count": 134,
   "id": "1f2aeb88-fe5e-4ec0-a3a1-3e486164dee1",
   "metadata": {},
   "outputs": [
    {
     "data": {
      "text/plain": [
       "harddisk\n",
       "1000.0    1181\n",
       "512.0      747\n",
       "256.0      473\n",
       "2000.0     283\n",
       "64.0       188\n",
       "128.0      111\n",
       "4000.0      73\n",
       "32.0        48\n",
       "500.0       34\n",
       "8000.0      20\n",
       "320.0        8\n",
       "16.0         8\n",
       "160.0        4\n",
       "6000.0       3\n",
       "1024.0       2\n",
       "480.0        2\n",
       "240.0        2\n",
       "8.0          2\n",
       "300.0        1\n",
       "65.0         1\n",
       "250.0        1\n",
       "1256.0       1\n",
       "1512.0       1\n",
       "1920.0       1\n",
       "1500.0       1\n",
       "2048.0       1\n",
       "3000.0       1\n",
       "Name: count, dtype: int64"
      ]
     },
     "execution_count": 134,
     "metadata": {},
     "output_type": "execute_result"
    }
   ],
   "source": [
    "data.harddisk.value_counts()"
   ]
  },
  {
   "cell_type": "markdown",
   "id": "3194538a-7ebf-451c-b845-da8b369bf72c",
   "metadata": {},
   "source": [
    "**In the Harddisk column the GB was removed and other units were all converted to GB. It is understood that some of these data are wrong, it may be due to human errors, they will be left as they are.**"
   ]
  },
  {
   "cell_type": "code",
   "execution_count": 135,
   "id": "b4c7c565-311c-42d8-bf83-1436a31f7d67",
   "metadata": {},
   "outputs": [
    {
     "data": {
      "text/plain": [
       "harddisk\n",
       "1000.0    1181\n",
       "512.0      747\n",
       "256.0      473\n",
       "2000.0     283\n",
       "64.0       188\n",
       "128.0      111\n",
       "4000.0      73\n",
       "32.0        48\n",
       "500.0       34\n",
       "8000.0      20\n",
       "320.0        8\n",
       "16.0         8\n",
       "160.0        4\n",
       "6000.0       3\n",
       "1024.0       2\n",
       "480.0        2\n",
       "240.0        2\n",
       "8.0          2\n",
       "300.0        1\n",
       "65.0         1\n",
       "250.0        1\n",
       "1256.0       1\n",
       "1512.0       1\n",
       "1920.0       1\n",
       "1500.0       1\n",
       "2048.0       1\n",
       "3000.0       1\n",
       "Name: count, dtype: int64"
      ]
     },
     "execution_count": 135,
     "metadata": {},
     "output_type": "execute_result"
    }
   ],
   "source": [
    "data.harddisk.replace(\" GB\",\"\", inplace=True, regex=True)\n",
    "# hard disk is MBs seems to me mistaken, we assume it was also in GBs\n",
    "data.harddisk.replace(\" MB\",\"\", inplace=True, regex=True)\n",
    "data.harddisk.value_counts()"
   ]
  },
  {
   "cell_type": "code",
   "execution_count": 136,
   "id": "2b497c7f-8b25-4629-a6d3-9d15b477aa47",
   "metadata": {},
   "outputs": [
    {
     "data": {
      "text/plain": [
       "harddisk\n",
       "1000.0    1181\n",
       "512.0      747\n",
       "256.0      473\n",
       "2000.0     283\n",
       "64.0       188\n",
       "128.0      111\n",
       "4000.0      73\n",
       "32.0        48\n",
       "500.0       34\n",
       "8000.0      20\n",
       "320.0        8\n",
       "16.0         8\n",
       "160.0        4\n",
       "6000.0       3\n",
       "1024.0       2\n",
       "480.0        2\n",
       "240.0        2\n",
       "8.0          2\n",
       "300.0        1\n",
       "65.0         1\n",
       "250.0        1\n",
       "1256.0       1\n",
       "1512.0       1\n",
       "1920.0       1\n",
       "1500.0       1\n",
       "2048.0       1\n",
       "3000.0       1\n",
       "Name: count, dtype: int64"
      ]
     },
     "execution_count": 136,
     "metadata": {},
     "output_type": "execute_result"
    }
   ],
   "source": [
    "data.harddisk.replace(\" TB\",\"000\", inplace=True, regex=True)\n",
    "data.harddisk.value_counts()"
   ]
  },
  {
   "cell_type": "code",
   "execution_count": 137,
   "id": "0585cd77-9fa2-4169-8775-1c66b4e43bb1",
   "metadata": {},
   "outputs": [
    {
     "data": {
      "text/plain": [
       "harddisk\n",
       "1000.0    1181\n",
       "512.0      747\n",
       "256.0      473\n",
       "2000.0     283\n",
       "64.0       188\n",
       "128.0      111\n",
       "4000.0      73\n",
       "32.0        48\n",
       "500.0       34\n",
       "8000.0      20\n",
       "320.0        8\n",
       "16.0         8\n",
       "160.0        4\n",
       "6000.0       3\n",
       "1024.0       2\n",
       "480.0        2\n",
       "240.0        2\n",
       "8.0          2\n",
       "300.0        1\n",
       "65.0         1\n",
       "250.0        1\n",
       "1256.0       1\n",
       "1512.0       1\n",
       "1920.0       1\n",
       "1500.0       1\n",
       "2048.0       1\n",
       "3000.0       1\n",
       "Name: count, dtype: int64"
      ]
     },
     "execution_count": 137,
     "metadata": {},
     "output_type": "execute_result"
    }
   ],
   "source": [
    "# correct two strings in decimel\n",
    "data.harddisk.replace(\"1.92000\",\"1920\", inplace=True, regex=True)\n",
    "data.harddisk.replace(\"1.5000\",\"1500\", inplace=True, regex=True)\n",
    "data.harddisk.value_counts()"
   ]
  },
  {
   "cell_type": "code",
   "execution_count": 138,
   "id": "4d85df77-2ae0-4a6b-8e0b-b82ec3570315",
   "metadata": {},
   "outputs": [
    {
     "data": {
      "text/plain": [
       "1       1000.0\n",
       "2          NaN\n",
       "3        256.0\n",
       "4        256.0\n",
       "5        128.0\n",
       "         ...  \n",
       "4440       NaN\n",
       "4441       NaN\n",
       "4443     512.0\n",
       "4444     512.0\n",
       "4445     256.0\n",
       "Name: harddisk, Length: 3767, dtype: float64"
      ]
     },
     "execution_count": 138,
     "metadata": {},
     "output_type": "execute_result"
    }
   ],
   "source": [
    "# convert to float type\n",
    "data.harddisk = pd.to_numeric(data.harddisk)\n",
    "data.harddisk"
   ]
  },
  {
   "cell_type": "markdown",
   "id": "e17ee678-7594-4a61-a5fd-d43fefc87c05",
   "metadata": {},
   "source": [
    "* **Convert RAM to numeric value**"
   ]
  },
  {
   "cell_type": "code",
   "execution_count": 139,
   "id": "5fe00048-2b50-49a7-9977-9e717f968b4b",
   "metadata": {},
   "outputs": [
    {
     "data": {
      "text/plain": [
       "1       64 GB\n",
       "2       32 GB\n",
       "3        8 GB\n",
       "4        8 GB\n",
       "5        8 GB\n",
       "        ...  \n",
       "4440    32 GB\n",
       "4441    32 GB\n",
       "4443     8 GB\n",
       "4444     8 GB\n",
       "4445      NaN\n",
       "Name: ram, Length: 3767, dtype: object"
      ]
     },
     "execution_count": 139,
     "metadata": {},
     "output_type": "execute_result"
    }
   ],
   "source": [
    "data.ram"
   ]
  },
  {
   "cell_type": "code",
   "execution_count": 140,
   "id": "0c5b8adb-3f72-4126-8a81-d5fbc5e1b6dc",
   "metadata": {},
   "outputs": [
    {
     "data": {
      "text/plain": [
       "ram\n",
       "16 GB       1335\n",
       "32 GB       1082\n",
       "64 GB        500\n",
       "8 GB         471\n",
       "4 GB         208\n",
       "12 GB         39\n",
       "24 GB         21\n",
       "40 GB         12\n",
       "48 GB         12\n",
       "2 GB           8\n",
       "20 GB          7\n",
       "1 GB           4\n",
       "128 GB         3\n",
       "6 GB           2\n",
       "96 GB          1\n",
       "5 GB           1\n",
       "31.99 GB       1\n",
       "Name: count, dtype: int64"
      ]
     },
     "execution_count": 140,
     "metadata": {},
     "output_type": "execute_result"
    }
   ],
   "source": [
    "data.ram.value_counts()"
   ]
  },
  {
   "cell_type": "code",
   "execution_count": 141,
   "id": "322e3493-f5f0-42dd-9c1c-904afadcf78a",
   "metadata": {},
   "outputs": [
    {
     "data": {
      "text/plain": [
       "ram\n",
       "16       1335\n",
       "32       1082\n",
       "64        500\n",
       "8         471\n",
       "4         208\n",
       "12         39\n",
       "24         21\n",
       "40         12\n",
       "48         12\n",
       "2           8\n",
       "20          7\n",
       "1           4\n",
       "128         3\n",
       "6           2\n",
       "96          1\n",
       "5           1\n",
       "31.99       1\n",
       "Name: count, dtype: int64"
      ]
     },
     "execution_count": 141,
     "metadata": {},
     "output_type": "execute_result"
    }
   ],
   "source": [
    "data.ram.replace(\" GB\",\"\", inplace=True, regex=True)\n",
    "data.ram.replace(\" MB\",\"\", inplace=True, regex=True) # seems mistake, assume its in GB\n",
    "data.ram.value_counts()"
   ]
  },
  {
   "cell_type": "code",
   "execution_count": 142,
   "id": "94f8e1d0-abc9-4c09-ba0a-cb335e688bde",
   "metadata": {},
   "outputs": [
    {
     "data": {
      "text/plain": [
       "1       64.0\n",
       "2       32.0\n",
       "3        8.0\n",
       "4        8.0\n",
       "5        8.0\n",
       "        ... \n",
       "4440    32.0\n",
       "4441    32.0\n",
       "4443     8.0\n",
       "4444     8.0\n",
       "4445     NaN\n",
       "Name: ram, Length: 3767, dtype: float64"
      ]
     },
     "execution_count": 142,
     "metadata": {},
     "output_type": "execute_result"
    }
   ],
   "source": [
    "# convert to float type\n",
    "data.ram = pd.to_numeric(data.ram)\n",
    "data.ram"
   ]
  },
  {
   "cell_type": "markdown",
   "id": "d90870ff-88c7-4855-82d5-22d50d7c7a38",
   "metadata": {},
   "source": [
    "* **Convert cpu speed to numeric value**"
   ]
  },
  {
   "cell_type": "code",
   "execution_count": 143,
   "id": "f9eb7921-2dff-421c-a704-a5e7a1ed7580",
   "metadata": {},
   "outputs": [
    {
     "data": {
      "text/plain": [
       "1           NaN\n",
       "2       1.8 GHz\n",
       "3           NaN\n",
       "4           NaN\n",
       "5           NaN\n",
       "         ...   \n",
       "4440    1.8 GHz\n",
       "4441    1.8 GHz\n",
       "4443        NaN\n",
       "4444    0.9 GHz\n",
       "4445    3.3 GHz\n",
       "Name: cpu_speed, Length: 3767, dtype: object"
      ]
     },
     "execution_count": 143,
     "metadata": {},
     "output_type": "execute_result"
    }
   ],
   "source": [
    "data.cpu_speed"
   ]
  },
  {
   "cell_type": "code",
   "execution_count": 144,
   "id": "c031076d-7873-45cb-aebe-7fac3672f3ae",
   "metadata": {},
   "outputs": [
    {
     "data": {
      "text/plain": [
       "cpu_speed\n",
       "1.8 GHz         410\n",
       "1.1 GHz         330\n",
       "2.6 GHz          31\n",
       "2.4 GHz          23\n",
       "1.7 GHz          15\n",
       "2.8 GHz          12\n",
       "1 GHz            12\n",
       "3.5 GHz          11\n",
       "5 GHz            10\n",
       "3 GHz            10\n",
       "2.3 GHz          10\n",
       "2 GHz             9\n",
       "2.2 GHz           8\n",
       "1.6 GHz           7\n",
       "3.4 GHz           7\n",
       "4.5 GHz           7\n",
       "4.7 GHz           6\n",
       "2.5 GHz           6\n",
       "4.2 GHz           6\n",
       "1.9 GHz           5\n",
       "4.8 GHz           5\n",
       "4.6 GHz           5\n",
       "3.6 GHz           5\n",
       "2.1 GHz           5\n",
       "2.7 GHz           5\n",
       "2.9 GHz           4\n",
       "3.7 GHz           4\n",
       "1.3 GHz           4\n",
       "1.2 GHz           3\n",
       "3.8 GHz           3\n",
       "4.4 GHz           3\n",
       "5.6 GHz           3\n",
       "3.3 GHz           2\n",
       "2.53 GHz          2\n",
       "3.9 GHz           2\n",
       "3.2 GHz           2\n",
       "3.3               2\n",
       "4 GHz             2\n",
       "4.1 GHz           2\n",
       "4.3 GHz           2\n",
       "3.4               2\n",
       "1.8               1\n",
       "3.1 GHz           1\n",
       "1.9               1\n",
       "2.5, 3.1 GHz      1\n",
       "3200 Hz           1\n",
       "2.2, 3.9 GHz      1\n",
       "2133 MHz          1\n",
       "4.7               1\n",
       "5.2 GHz           1\n",
       "9120 GHz          1\n",
       "5.1 GHz           1\n",
       "2.4               1\n",
       "1.4 GHz           1\n",
       "2 Hz              1\n",
       "3.49 GHz          1\n",
       "2.6               1\n",
       "1.5 GHz           1\n",
       "0.9 GHz           1\n",
       "Name: count, dtype: int64"
      ]
     },
     "execution_count": 144,
     "metadata": {},
     "output_type": "execute_result"
    }
   ],
   "source": [
    "data.cpu_speed.value_counts()"
   ]
  },
  {
   "cell_type": "code",
   "execution_count": 145,
   "id": "fd475f8c-3568-4836-b012-5bdfd5a98bd0",
   "metadata": {},
   "outputs": [
    {
     "data": {
      "text/plain": [
       "cpu_speed\n",
       "1.8         411\n",
       "1.1         330\n",
       "2.6          32\n",
       "2.4          24\n",
       "1.7          15\n",
       "2.8          12\n",
       "1            12\n",
       "3.5          11\n",
       "2            10\n",
       "5            10\n",
       "3            10\n",
       "2.3          10\n",
       "3.4           9\n",
       "2.2           8\n",
       "4.7           7\n",
       "1.6           7\n",
       "4.5           7\n",
       "1.9           6\n",
       "4.2           6\n",
       "2.5           6\n",
       "2.1           6\n",
       "3.6           5\n",
       "2.7           5\n",
       "4.6           5\n",
       "4.8           5\n",
       "2.9           4\n",
       "1.3           4\n",
       "3.7           4\n",
       "3.3           4\n",
       "3.2           3\n",
       "5.6           3\n",
       "3.8           3\n",
       "4.4           3\n",
       "1.2           3\n",
       "3.9           2\n",
       "2.53          2\n",
       "4.1           2\n",
       "4             2\n",
       "4.3           2\n",
       "1.5           1\n",
       "3.49          1\n",
       "1.4           1\n",
       "5.2           1\n",
       "5.1           1\n",
       "9120          1\n",
       "2.2, 3.9      1\n",
       "2.5, 3.1      1\n",
       "3.1           1\n",
       "0.9           1\n",
       "Name: count, dtype: int64"
      ]
     },
     "execution_count": 145,
     "metadata": {},
     "output_type": "execute_result"
    }
   ],
   "source": [
    "data.cpu_speed.replace(\" GHz\",\"\", inplace=True, regex=True)\n",
    "data.cpu_speed.replace(\"2133 MHz\",\"2.1\", inplace=True, regex=True)\n",
    "data.cpu_speed.replace(\"3200 Hz\",\"3.2\", inplace=True, regex=True)\n",
    "data.cpu_speed.replace(\" Hz\",\"\", inplace=True, regex=True) # 2 Hz seems mistake, assume its in GHz\n",
    "data.cpu_speed.value_counts()"
   ]
  },
  {
   "cell_type": "code",
   "execution_count": 146,
   "id": "75817bd2-a55c-4cfd-96ae-7b87c5e3bee9",
   "metadata": {},
   "outputs": [
    {
     "data": {
      "text/plain": [
       "cpu_speed\n",
       "1.8     411\n",
       "1.1     330\n",
       "2.6      32\n",
       "2.4      24\n",
       "1.7      15\n",
       "2.8      13\n",
       "1        12\n",
       "3.5      11\n",
       "2.3      10\n",
       "3        10\n",
       "2        10\n",
       "5        10\n",
       "3.4       9\n",
       "2.2       8\n",
       "1.6       7\n",
       "4.5       7\n",
       "4.7       7\n",
       "1.9       6\n",
       "2.5       6\n",
       "2.1       6\n",
       "4.2       6\n",
       "4.6       5\n",
       "2.7       5\n",
       "4.8       5\n",
       "3.6       5\n",
       "3.3       4\n",
       "2.9       4\n",
       "3.7       4\n",
       "1.3       4\n",
       "1.2       3\n",
       "5.6       3\n",
       "4.4       3\n",
       "3.2       3\n",
       "3.8       3\n",
       "4.1       2\n",
       "4.3       2\n",
       "3.1       2\n",
       "2.53      2\n",
       "4         2\n",
       "3.9       2\n",
       "9.1       1\n",
       "3.49      1\n",
       "1.4       1\n",
       "5.1       1\n",
       "1.5       1\n",
       "5.2       1\n",
       "0.9       1\n",
       "Name: count, dtype: int64"
      ]
     },
     "execution_count": 146,
     "metadata": {},
     "output_type": "execute_result"
    }
   ],
   "source": [
    "data.cpu_speed.replace(\"9120\",\"9.1\", inplace=True, regex=True) # seems mistake\n",
    "data.cpu_speed.replace(\"2.2, 3.9\",\"3.1\", inplace=True, regex=True) # Average\n",
    "data.cpu_speed.replace(\"2.5, 3.1\",\"2.8\", inplace=True, regex=True) # Average\n",
    "data.cpu_speed.value_counts()"
   ]
  },
  {
   "cell_type": "code",
   "execution_count": 147,
   "id": "a1a94503-0499-475c-b768-234d2dccfcb5",
   "metadata": {},
   "outputs": [
    {
     "data": {
      "text/plain": [
       "1       NaN\n",
       "2       1.8\n",
       "3       NaN\n",
       "4       NaN\n",
       "5       NaN\n",
       "       ... \n",
       "4440    1.8\n",
       "4441    1.8\n",
       "4443    NaN\n",
       "4444    0.9\n",
       "4445    3.3\n",
       "Name: cpu_speed, Length: 3767, dtype: float64"
      ]
     },
     "execution_count": 147,
     "metadata": {},
     "output_type": "execute_result"
    }
   ],
   "source": [
    "# convert to float type\n",
    "data.cpu_speed = pd.to_numeric(data.cpu_speed)\n",
    "data.cpu_speed"
   ]
  },
  {
   "cell_type": "code",
   "execution_count": 148,
   "id": "a41ca4f2-ab07-4830-9c67-cfbf041dff3b",
   "metadata": {},
   "outputs": [
    {
     "name": "stdout",
     "output_type": "stream",
     "text": [
      "1         $999.99 \n",
      "2       $1,599.00 \n",
      "3         $689.99 \n",
      "4       $1,144.48 \n",
      "5         $299.99 \n",
      "           ...    \n",
      "4440    $1,599.00 \n",
      "4441    $1,699.00 \n",
      "4443      $591.99 \n",
      "4444    $1,771.99 \n",
      "4445      $938.99 \n",
      "Name: price, Length: 3767, dtype: object\n",
      "Null values of price are:  5\n"
     ]
    }
   ],
   "source": [
    "print(data.price)\n",
    "print ('Null values of price are: ', data.price.isnull().sum())"
   ]
  },
  {
   "cell_type": "code",
   "execution_count": 149,
   "id": "b8031f5c-8a0f-4dd4-bb63-fa17997b26a3",
   "metadata": {},
   "outputs": [
    {
     "data": {
      "text/plain": [
       "price\n",
       "$999.99       252\n",
       "$1,599.00     210\n",
       "$1,699.00     204\n",
       "$459.99       171\n",
       "$899.99       146\n",
       "             ... \n",
       "$4,762.76       1\n",
       "$3,351.99       1\n",
       "$3,619.99       1\n",
       "$885.12         1\n",
       "$938.99         1\n",
       "Name: count, Length: 1827, dtype: int64"
      ]
     },
     "execution_count": 149,
     "metadata": {},
     "output_type": "execute_result"
    }
   ],
   "source": [
    "data.price.value_counts()"
   ]
  },
  {
   "cell_type": "code",
   "execution_count": 150,
   "id": "7696eec6-a7f4-4c20-995e-75c0190d216f",
   "metadata": {},
   "outputs": [
    {
     "data": {
      "text/plain": [
       "price\n",
       "999.99      252\n",
       "1599.00     210\n",
       "1699.00     204\n",
       "459.99      171\n",
       "899.99      146\n",
       "           ... \n",
       "4762.76       1\n",
       "3351.99       1\n",
       "3619.99       1\n",
       "885.12        1\n",
       "938.99        1\n",
       "Name: count, Length: 1827, dtype: int64"
      ]
     },
     "execution_count": 150,
     "metadata": {},
     "output_type": "execute_result"
    }
   ],
   "source": [
    "data.price = data.price.str.replace('$', '')\n",
    "data.price = data.price.str.replace(',', '')\n",
    "data.price.value_counts()"
   ]
  },
  {
   "cell_type": "code",
   "execution_count": 151,
   "id": "9cadc971-60b9-4648-9c9e-efd0e96ae14c",
   "metadata": {},
   "outputs": [
    {
     "data": {
      "text/plain": [
       "1        999.99\n",
       "2       1599.00\n",
       "3        689.99\n",
       "4       1144.48\n",
       "5        299.99\n",
       "         ...   \n",
       "4440    1599.00\n",
       "4441    1699.00\n",
       "4443     591.99\n",
       "4444    1771.99\n",
       "4445     938.99\n",
       "Name: price, Length: 3767, dtype: float64"
      ]
     },
     "execution_count": 151,
     "metadata": {},
     "output_type": "execute_result"
    }
   ],
   "source": [
    "data.price = pd.to_numeric(data.price)\n",
    "data.price"
   ]
  },
  {
   "cell_type": "code",
   "execution_count": 152,
   "id": "cd580859-b548-4ca0-9a57-f899d7cd56b9",
   "metadata": {},
   "outputs": [
    {
     "name": "stdout",
     "output_type": "stream",
     "text": [
      "<class 'pandas.core.frame.DataFrame'>\n",
      "Index: 3767 entries, 1 to 4445\n",
      "Data columns (total 14 columns):\n",
      " #   Column                Non-Null Count  Dtype  \n",
      "---  ------                --------------  -----  \n",
      " 0   brand                 3767 non-null   object \n",
      " 1   model                 3098 non-null   object \n",
      " 2   screen_size           3740 non-null   object \n",
      " 3   color                 3204 non-null   object \n",
      " 4   harddisk              3198 non-null   float64\n",
      " 5   cpu                   3674 non-null   object \n",
      " 6   ram                   3707 non-null   float64\n",
      " 7   OS                    3744 non-null   object \n",
      " 8   special_features      2042 non-null   object \n",
      " 9   graphics              3703 non-null   object \n",
      " 10  graphics_coprocessor  1910 non-null   object \n",
      " 11  cpu_speed             1020 non-null   float64\n",
      " 12  rating                1966 non-null   float64\n",
      " 13  price                 3762 non-null   float64\n",
      "dtypes: float64(5), object(9)\n",
      "memory usage: 441.4+ KB\n"
     ]
    }
   ],
   "source": [
    "data.info()"
   ]
  },
  {
   "cell_type": "markdown",
   "id": "349abae8-547c-46f7-bfa2-a44491726d1d",
   "metadata": {},
   "source": [
    "### 4.3 Classifying CPU Types\n",
    "\n",
    "In the cpu, Classifying all types of processors according to their type and generation is a very broad task, so for this study they were modified and tried to classify within their main group: for example, \"Intel core I7 - 11500\" is \"Intel Core i7\"omitting the generation of the processor"
   ]
  },
  {
   "cell_type": "code",
   "execution_count": 153,
   "id": "d6afe61c-ebc1-4dcb-8237-a04d6575a850",
   "metadata": {},
   "outputs": [
    {
     "data": {
      "text/plain": [
       "array(['Intel Core i5', 'Intel Core i9', 'Unknown', 'Ryzen 3',\n",
       "       'Celeron N4020', 'Core i7', 'Core I3 1115G4', 'Core i5',\n",
       "       'Ryzen 3 3250U', 'Pentium N5000', 'AMD Ryzen 7', 'Intel Core i3',\n",
       "       'Core i3', 'Ryzen 5', 'Celeron', 'Core i3 Family', 'Core i9',\n",
       "       'Celeron N', 'Pentium', 'Celeron P4500', 'AMD Ryzen 5 5500U',\n",
       "       'Core i3-1115G4E', 'MediaTek MT8183', 'Intel Core i7', 'Ryzen 7',\n",
       "       'Ryzen 9', 'Core i7-8650U', 'Intel Core i7-1355U', 'ARM 7100',\n",
       "       'Apple M1', 'Celeron N4000', 'Core i7-13700K', nan,\n",
       "       'MediaTek_MT8127', 'Core i5 Family', 'Core i5 6200U',\n",
       "       'Celeron N3450', 'Ryzen 3 3350U', 'Core i3-1005G1',\n",
       "       'Core i7 Family', 'AMD A Series', 'Others', 'Celeron N3350',\n",
       "       'Snapdragon', 'Intel Core i5-1135G7', 'Core i5-10210U', '8032',\n",
       "       'AMD Ryzen 3 2300X', 'Ryzen 5 5500U', 'Cortex', 'Core i5-1130G7',\n",
       "       'Ryzen 7 5800H', 'Athlon', 'Pentium Other', 'Intel Core i7-1165G7',\n",
       "       'Core i5 5300U', 'Core i5 7200U', '1.2GHz Cortex A8 Processor',\n",
       "       'Core i5 4310M', 'Ryzen 3 3200U', 'Apple M2 Max', 'Ryzen 5 3500U',\n",
       "       'MediaTek Helio P60T', 'Core I7 12700H',\n",
       "       'Intel Core M-5Y10 Processor', 'Core i5 4310U', 'Celeron N2840',\n",
       "       'Intel Core i7 1185G7', 'Core i7-1065G7', 'Ryzen 7 4700U',\n",
       "       'Core m3-8100Y', 'AMD R Series', 'Core M Family',\n",
       "       'Core 2 Duo P8700', 'core_m', 'Ryzen 5 4500U', 'Core i5 8400T',\n",
       "       'Core i5 8250U', 'Core i9 7960X', 'Core i7-10700T', 'A-Series',\n",
       "       'Ryzen 3 4300U', 'Core i3-10110U', 'Core I7 11800H',\n",
       "       'Core i5-3317U', 'AMD Ryzen 7 5800H', 'Intel Mobile CPU',\n",
       "       'Corei7-10750H', 'Intel Atom', 'Athlon Silver 3050U',\n",
       "       'Celeron 3205U', 'Ryzen 5 2600X', 'Apple M2', 'Core i5 2.3 GHz',\n",
       "       'Core i5-4210U', 'Core 2 Duo', 'Core i5-4200M', 'AMD A4',\n",
       "       '1.2GHz Cortex A13 Processor', 'Core i7 8550U',\n",
       "       'A-Series Dual-Core A4-3300M', 'Core i7-10510U', 'Core i3 8130U',\n",
       "       '68000', 'Intel Pentium 4', 'Core i5-3320M', 'Core i5-1035G1',\n",
       "       'Intel Core i5 1145G7', 'Core i7 6700HQ', 'Core i5-655K',\n",
       "       'Core i7 4600U', 'Core i7 7500U', 'Core i5-10310Y',\n",
       "       'Core i7 6600U', 'Core i7 8750H', 'Core i5-5200U',\n",
       "       'Intel Core Duo', 'Ryzen 3 1300X', 'Corei7-10875H',\n",
       "       'Ryzen 7 2700U', 'Intel Core i5-4200U', 'Intel Celeron D',\n",
       "       'Core i7-12650H', 'Intel Core i7 Extreme', 'Core i7-4700MQ',\n",
       "       'Ryzen 7 4800H', 'AMD Ryzen 9 5900X', 'Core i7-3720QM',\n",
       "       'AMD Kabini A6-5200M Quad Core', 'Intel Core 2 Quad',\n",
       "       'Pentium N3540', 'Intel Core i7-5850HQ', 'Intel Xeon',\n",
       "       'Ryzen 5 4600H'], dtype=object)"
      ]
     },
     "execution_count": 153,
     "metadata": {},
     "output_type": "execute_result"
    }
   ],
   "source": [
    "data.cpu.unique()"
   ]
  },
  {
   "cell_type": "code",
   "execution_count": 154,
   "id": "23876786-84a3-4ce2-8f04-8f6365a97cd9",
   "metadata": {},
   "outputs": [
    {
     "data": {
      "text/plain": [
       "array(['Intel Core i5', 'Intel Core i9', 'Unknown', 'Ryzen 3', 'Celeron',\n",
       "       'Intel Core i7', 'Intel Core i3', 'Pentium', 'Ryzen 7', 'Ryzen 5',\n",
       "       'MediaTek MT8183', 'Ryzen 9', 'ARM 7100', 'Apple M1', '',\n",
       "       'MediaTek_MT8127', 'AMD A Series', 'Others', 'Snapdragon', '8032',\n",
       "       'Cortex', 'Athlon', '1.2GHz Cortex A8 Processor', 'Apple M2 Max',\n",
       "       'MediaTek Helio P60T', 'Intel Core M-5Y10 Processor',\n",
       "       'Core m3-8100Y', 'AMD R Series', 'Core M Family',\n",
       "       'Core 2 Duo P8700', 'core_m', 'A-Series', 'Intel Mobile CPU',\n",
       "       'Intel Atom', 'Athlon Silver 3050U', 'Apple M2', 'Core 2 Duo',\n",
       "       'AMD A4', '1.2GHz Cortex A13 Processor',\n",
       "       'A-Series Dual-Core A4-3300M', '68000', 'Intel Core Duo',\n",
       "       'AMD Kabini A6-5200M Quad Core', 'Intel Core 2 Quad', 'Intel Xeon'],\n",
       "      dtype=object)"
      ]
     },
     "execution_count": 154,
     "metadata": {},
     "output_type": "execute_result"
    }
   ],
   "source": [
    "# Function to perform transformations on the 'cpu' column.\n",
    "\n",
    "def transformar_cpu(valor):\n",
    "    valor = 'Intel Core i3' if 'i3' in valor.lower() else valor\n",
    "    valor = 'Intel Core i5' if 'i5' in valor.lower() else valor\n",
    "    valor = 'Intel Core i9' if 'i9' in valor.lower() else valor\n",
    "    valor = 'Intel Core i7' if 'i7' in valor.lower() else valor\n",
    "    valor = 'Ryzen 3' if 'ryzen 3' in valor.lower() else valor\n",
    "    valor = 'Ryzen 5' if 'ryzen 5' in valor.lower() else valor\n",
    "    valor = 'Ryzen 7' if 'ryzen 7' in valor.lower() else valor\n",
    "    valor = 'Ryzen 9' if 'ryzen 9' in valor.lower() else valor\n",
    "    valor = 'Celeron' if 'celeron' in valor.lower() else valor\n",
    "    valor = 'Pentium' if 'pentium' in valor.lower() else valor\n",
    "    return valor\n",
    "\n",
    "# Apply the function to the 'cpu' column of the DataFrame.\n",
    "data['cpu'] = data['cpu'].fillna('')\n",
    "data['cpu'] = data['cpu'].apply(transformar_cpu)\n",
    "\n",
    "data['cpu'].unique()"
   ]
  },
  {
   "cell_type": "markdown",
   "id": "8f66aeed-e8d9-4795-be77-7ba1c59057fe",
   "metadata": {},
   "source": [
    "## 4.4 Exploratory Data Analysis (EDA):\n",
    "\n",
    "Perform exploratory data analysis to understand the distribution of each feature and their relationships.\n",
    "Visualize correlations between individual features and the laptop prices.\n",
    "\n",
    "\n",
    "* Price Distribution\n",
    "* Avearge Least & Most Expensive Brands\n",
    "* Brands Quantity Sold\n",
    "* Average Rate & Highest Rated Brands\n",
    "* Rating vs. Price\n",
    "* Average RAM & HardDisk Prices and relation between them\n",
    "* Corelation Matrix of Numeric Variables\n",
    "* Average Price for Most Used CPUs"
   ]
  },
  {
   "cell_type": "markdown",
   "id": "476d2836-fe74-4dab-9add-3919b9855bc8",
   "metadata": {},
   "source": [
    "### 4.5 Price Distribution"
   ]
  },
  {
   "cell_type": "code",
   "execution_count": 155,
   "id": "d9c4f694-e287-4892-8a84-d88eaf54f521",
   "metadata": {},
   "outputs": [
    {
     "name": "stdout",
     "output_type": "stream",
     "text": [
      "First Quartile (Q1): 731.4100000000001\n",
      "Second Quartile (Q2, median): 1049.0\n",
      "Third Quartile (Q3): 1699.0\n"
     ]
    }
   ],
   "source": [
    "data = data[data['price'] <= 5600] #more than this value are outliers\n",
    "\n",
    "# Remove NaN values\n",
    "df_price_clean = data.dropna(subset=['price'])\n",
    "\n",
    "# Calculate the quartiles\n",
    "q1 = df_price_clean['price'].quantile(0.25)\n",
    "q2 = df_price_clean['price'].quantile(0.50) \n",
    "q3 = df_price_clean['price'].quantile(0.75)\n",
    "\n",
    "print(\"First Quartile (Q1):\", q1)\n",
    "print(\"Second Quartile (Q2, median):\", q2)\n",
    "print(\"Third Quartile (Q3):\", q3)"
   ]
  },
  {
   "cell_type": "code",
   "execution_count": 156,
   "id": "458e1525-e061-4015-835a-4d4ba8944734",
   "metadata": {},
   "outputs": [],
   "source": [
    "pd.plotting.register_matplotlib_converters()\n",
    "# a method from the pandas library (pd). It registers converters for matplotlib plotting functions, \n",
    "# allowing pandas to work seamlessly with matplotlib for handling date and time data.\n",
    "\n",
    "import matplotlib.pyplot as plt\n",
    "\n",
    "%matplotlib inline\n",
    "# It enables the inline plotting mode, \n",
    "# which means that the output of plotting commands is displayed directly below the code cell that produced it.\n",
    "\n",
    "import seaborn as sns"
   ]
  },
  {
   "cell_type": "code",
   "execution_count": 157,
   "id": "482815fd-49c9-48bf-bc2c-434e1e593d5c",
   "metadata": {},
   "outputs": [
    {
     "data": {
      "image/png": "[encoded data removed]",
      "text/plain": [
       "<Figure size 800x600 with 2 Axes>"
      ]
     },
     "metadata": {},
     "output_type": "display_data"
    }
   ],
   "source": [
    "# Create a figure and subplots for the two plots\n",
    "fig, axes = plt.subplots(2, 1, figsize=(8, 6))\n",
    "\n",
    "# First Column: Histogram\n",
    "sns.histplot(data=df_price_clean, x=\"price\", kde=True, ax=axes[0])\n",
    "axes[0].set_title(\"Histogram\")\n",
    "\n",
    "# Second Column: Boxplot\n",
    "sns.boxplot(data=df_price_clean, x=\"price\", ax=axes[1])\n",
    "axes[1].set_title(\"Boxplot\")\n",
    "\n",
    "# Adjust layout to prevent overlap of the plots\n",
    "plt.tight_layout()\n",
    "\n",
    "plt.show()"
   ]
  },
  {
   "cell_type": "code",
   "execution_count": 158,
   "id": "30a7a02e-d6e5-4654-ae21-aee6ddb36699",
   "metadata": {},
   "outputs": [
    {
     "data": {
      "image/png": "[encoded data removed]",
      "text/plain": [
       "<Figure size 1000x600 with 1 Axes>"
      ]
     },
     "metadata": {},
     "output_type": "display_data"
    }
   ],
   "source": [
    "# 10 average least expensive brands\n",
    "temp = data.groupby('brand').price.mean()\n",
    "temp2 = temp.sort_values(ascending=True)[:7]\n",
    "plt.figure(figsize=(10,6))\n",
    "plt.title('Least Expensive Brands')\n",
    "sns.barplot(y=temp2.index,x=temp2.values);"
   ]
  },
  {
   "cell_type": "code",
   "execution_count": 159,
   "id": "f7c7a1f3-3cb4-47dd-8885-df36cea0563c",
   "metadata": {},
   "outputs": [
    {
     "data": {
      "image/png": "[encoded data removed]",
      "text/plain": [
       "<Figure size 1000x600 with 1 Axes>"
      ]
     },
     "metadata": {},
     "output_type": "display_data"
    }
   ],
   "source": [
    "# 10 average most expensive brands\n",
    "temp = data.groupby('brand').price.mean()\n",
    "temp2 = temp.sort_values(ascending=False)[:7]\n",
    "plt.figure(figsize=(10,6))\n",
    "plt.title('Most Expensive Brands')\n",
    "sns.barplot(y=temp2.index,x=temp2.values);"
   ]
  },
  {
   "cell_type": "code",
   "execution_count": 160,
   "id": "2be33d44-091a-4e5f-bef0-73b9199ae5ad",
   "metadata": {},
   "outputs": [
    {
     "data": {
      "image/png": "[encoded data removed]",
      "text/plain": [
       "<Figure size 1000x600 with 1 Axes>"
      ]
     },
     "metadata": {},
     "output_type": "display_data"
    }
   ],
   "source": [
    "brand_counts = data['brand'].value_counts().head(13)\n",
    "brand_counts = brand_counts.sort_values(ascending=False)\n",
    "\n",
    "# Create the bar chart\n",
    "plt.figure(figsize=(10, 6))  # Chart size\n",
    "bars = brand_counts.plot(kind='bar', color='skyblue')  # Chart type and color\n",
    "plt.xlabel('Brand')  # X-axis label\n",
    "plt.ylabel('Frequency')  # Y-axis label\n",
    "plt.title('Brand QTY Distribution')  # Chart title\n",
    "\n",
    "# Remove the side lines (spines)\n",
    "plt.gca().spines['top'].set_visible(False)\n",
    "plt.gca().spines['right'].set_visible(False)\n",
    "# Remove the Y-axis\n",
    "plt.gca().get_yaxis().set_visible(False)\n",
    "\n",
    "# Add values on top of the bars\n",
    "for bar in bars.patches:\n",
    "    plt.text(\n",
    "        bar.get_x() + bar.get_width() / 2 - 0.1,\n",
    "        bar.get_height() + 0.5,\n",
    "        int(bar.get_height()),\n",
    "        ha='center',\n",
    "        color='black',\n",
    "    )\n",
    "\n",
    "\n",
    "# Show the chart\n",
    "plt.show()"
   ]
  },
  {
   "cell_type": "code",
   "execution_count": 161,
   "id": "33cebc2b-19dc-48a9-8b3e-2ac086cabbb9",
   "metadata": {},
   "outputs": [
    {
     "data": {
      "text/html": [
       "<div>\n",
       "<style scoped>\n",
       "    .dataframe tbody tr th:only-of-type {\n",
       "        vertical-align: middle;\n",
       "    }\n",
       "\n",
       "    .dataframe tbody tr th {\n",
       "        vertical-align: top;\n",
       "    }\n",
       "\n",
       "    .dataframe thead th {\n",
       "        text-align: right;\n",
       "    }\n",
       "</style>\n",
       "<table border=\"1\" class=\"dataframe\">\n",
       "  <thead>\n",
       "    <tr style=\"text-align: right;\">\n",
       "      <th></th>\n",
       "      <th>brand</th>\n",
       "      <th>rating</th>\n",
       "    </tr>\n",
       "  </thead>\n",
       "  <tbody>\n",
       "    <tr>\n",
       "      <th>6</th>\n",
       "      <td>hp</td>\n",
       "      <td>4.444173</td>\n",
       "    </tr>\n",
       "    <tr>\n",
       "      <th>9</th>\n",
       "      <td>microsoft</td>\n",
       "      <td>4.366667</td>\n",
       "    </tr>\n",
       "    <tr>\n",
       "      <th>2</th>\n",
       "      <td>apple</td>\n",
       "      <td>4.300000</td>\n",
       "    </tr>\n",
       "    <tr>\n",
       "      <th>12</th>\n",
       "      <td>samsung</td>\n",
       "      <td>4.285714</td>\n",
       "    </tr>\n",
       "    <tr>\n",
       "      <th>11</th>\n",
       "      <td>panasonic</td>\n",
       "      <td>4.241176</td>\n",
       "    </tr>\n",
       "    <tr>\n",
       "      <th>8</th>\n",
       "      <td>lg</td>\n",
       "      <td>4.191667</td>\n",
       "    </tr>\n",
       "    <tr>\n",
       "      <th>0</th>\n",
       "      <td>acer</td>\n",
       "      <td>4.177647</td>\n",
       "    </tr>\n",
       "    <tr>\n",
       "      <th>3</th>\n",
       "      <td>asus</td>\n",
       "      <td>4.111111</td>\n",
       "    </tr>\n",
       "    <tr>\n",
       "      <th>1</th>\n",
       "      <td>alienware</td>\n",
       "      <td>4.050000</td>\n",
       "    </tr>\n",
       "    <tr>\n",
       "      <th>4</th>\n",
       "      <td>dell</td>\n",
       "      <td>4.037037</td>\n",
       "    </tr>\n",
       "    <tr>\n",
       "      <th>7</th>\n",
       "      <td>lenovo</td>\n",
       "      <td>4.020968</td>\n",
       "    </tr>\n",
       "    <tr>\n",
       "      <th>5</th>\n",
       "      <td>gigabyte</td>\n",
       "      <td>3.927273</td>\n",
       "    </tr>\n",
       "    <tr>\n",
       "      <th>10</th>\n",
       "      <td>msi</td>\n",
       "      <td>3.157471</td>\n",
       "    </tr>\n",
       "  </tbody>\n",
       "</table>\n",
       "</div>"
      ],
      "text/plain": [
       "        brand    rating\n",
       "6          hp  4.444173\n",
       "9   microsoft  4.366667\n",
       "2       apple  4.300000\n",
       "12    samsung  4.285714\n",
       "11  panasonic  4.241176\n",
       "8          lg  4.191667\n",
       "0        acer  4.177647\n",
       "3        asus  4.111111\n",
       "1   alienware  4.050000\n",
       "4        dell  4.037037\n",
       "7      lenovo  4.020968\n",
       "5    gigabyte  3.927273\n",
       "10        msi  3.157471"
      ]
     },
     "execution_count": 161,
     "metadata": {},
     "output_type": "execute_result"
    }
   ],
   "source": [
    "# Calculate the average 'rate' for each brand\n",
    "brand_avg_rate = data.groupby('brand')['rating'].mean().reset_index()\n",
    "\n",
    "# Sort the resulting DataFrame by the average 'rate' in descending order\n",
    "brand_avg_rate = brand_avg_rate.sort_values(by='rating', ascending=False)\n",
    "brand_avg_rate"
   ]
  },
  {
   "cell_type": "code",
   "execution_count": 162,
   "id": "a86c47c9-b105-42cb-9225-a4b8709860d9",
   "metadata": {},
   "outputs": [
    {
     "data": {
      "image/png": "[encoded data removed]",
      "text/plain": [
       "<Figure size 1200x300 with 1 Axes>"
      ]
     },
     "metadata": {},
     "output_type": "display_data"
    }
   ],
   "source": [
    "# Create the bar chart\n",
    "plt.figure(figsize=(12, 3))\n",
    "\n",
    "bars = plt.bar(brand_avg_rate['brand'], brand_avg_rate['rating'], color='skyblue')\n",
    "plt.xticks(rotation=90)  # Rotate x-axis labels for better readability\n",
    "plt.xlabel('Brand')\n",
    "plt.title('Average Rate by Brand')\n",
    "\n",
    "# Annotate the bars with their values\n",
    "for bar in bars:\n",
    "    plt.text(bar.get_x() + bar.get_width() / 2, bar.get_height() + 0.05, round(bar.get_height(), 2), ha='center', va='bottom')\n",
    "\n",
    "# Remove all spines (borders) and y-axis\n",
    "plt.gca().spines['top'].set_visible(False)\n",
    "plt.gca().spines['right'].set_visible(False)\n",
    "plt.gca().spines['left'].set_visible(False)\n",
    "plt.gca().spines['bottom'].set_visible(False)\n",
    "plt.yticks([])  # Hide y-axis labels\n",
    "\n",
    "\n",
    "brands_in_order = brand_avg_rate['brand'].tolist()\n",
    "\n",
    "\n",
    "# Show the chart\n",
    "plt.show()"
   ]
  },
  {
   "cell_type": "code",
   "execution_count": 163,
   "id": "41a4f34a-1411-4a90-a5bb-be045d742d54",
   "metadata": {},
   "outputs": [
    {
     "data": {
      "image/png": "[encoded data removed]",
      "text/plain": [
       "<Figure size 1000x600 with 1 Axes>"
      ]
     },
     "metadata": {},
     "output_type": "display_data"
    }
   ],
   "source": [
    "plt.figure(figsize=(10, 6))\n",
    "sns.boxplot(x='brand', y='price', data=data, order=brands_in_order)\n",
    "plt.xlabel('Brand')\n",
    "plt.ylabel('Price')\n",
    "plt.title('Price Distribution by Brand')\n",
    "plt.xticks(rotation=90)  # Rotar etiquetas para una mejor legibilidad si es necesario\n",
    "plt.show()"
   ]
  },
  {
   "cell_type": "code",
   "execution_count": 164,
   "id": "4d0b47ff-2376-4778-beb2-05eb3540dea2",
   "metadata": {},
   "outputs": [
    {
     "data": {
      "image/png": "[encoded data removed]",
      "text/plain": [
       "<Figure size 1000x600 with 1 Axes>"
      ]
     },
     "metadata": {},
     "output_type": "display_data"
    }
   ],
   "source": [
    "# Create the Scatter plot using seaborn with a different color palette and line plot\n",
    "# Scatter plot\n",
    "plt.figure(figsize=(10, 6))\n",
    "sns.scatterplot(x='rating', y='price', data=data, s=100, color='blue', alpha=0.7)\n",
    "\n",
    "# Title and labels\n",
    "plt.title('Customer Rating vs. Price')\n",
    "plt.xlabel('Customer Rating')\n",
    "plt.ylabel('Laptop Price (USD)')\n",
    "\n",
    "# Show the plot\n",
    "plt.show()"
   ]
  },
  {
   "cell_type": "code",
   "execution_count": 165,
   "id": "a043ca59-c841-47ce-b671-cfeecdbf07f9",
   "metadata": {},
   "outputs": [
    {
     "data": {
      "text/html": [
       "<div>\n",
       "<style scoped>\n",
       "    .dataframe tbody tr th:only-of-type {\n",
       "        vertical-align: middle;\n",
       "    }\n",
       "\n",
       "    .dataframe tbody tr th {\n",
       "        vertical-align: top;\n",
       "    }\n",
       "\n",
       "    .dataframe thead th {\n",
       "        text-align: right;\n",
       "    }\n",
       "</style>\n",
       "<table border=\"1\" class=\"dataframe\">\n",
       "  <thead>\n",
       "    <tr style=\"text-align: right;\">\n",
       "      <th></th>\n",
       "      <th>ram</th>\n",
       "      <th>price</th>\n",
       "    </tr>\n",
       "  </thead>\n",
       "  <tbody>\n",
       "    <tr>\n",
       "      <th>0</th>\n",
       "      <td>4.0</td>\n",
       "      <td>393.295556</td>\n",
       "    </tr>\n",
       "    <tr>\n",
       "      <th>1</th>\n",
       "      <td>8.0</td>\n",
       "      <td>791.091816</td>\n",
       "    </tr>\n",
       "    <tr>\n",
       "      <th>2</th>\n",
       "      <td>16.0</td>\n",
       "      <td>1165.780713</td>\n",
       "    </tr>\n",
       "    <tr>\n",
       "      <th>3</th>\n",
       "      <td>32.0</td>\n",
       "      <td>1657.593577</td>\n",
       "    </tr>\n",
       "    <tr>\n",
       "      <th>4</th>\n",
       "      <td>64.0</td>\n",
       "      <td>1697.258938</td>\n",
       "    </tr>\n",
       "  </tbody>\n",
       "</table>\n",
       "</div>"
      ],
      "text/plain": [
       "    ram        price\n",
       "0   4.0   393.295556\n",
       "1   8.0   791.091816\n",
       "2  16.0  1165.780713\n",
       "3  32.0  1657.593577\n",
       "4  64.0  1697.258938"
      ]
     },
     "execution_count": 165,
     "metadata": {},
     "output_type": "execute_result"
    }
   ],
   "source": [
    "# Count the frequency of each RAM configuration\n",
    "ram_counts = data['ram'].value_counts()\n",
    "\n",
    "# Sort the RAM configurations by frequency and take the top 5 most common\n",
    "top_5_ram = ram_counts.nlargest(5).index\n",
    "\n",
    "# Filter the original DataFrame to include only data for the top 5 most common RAM configurations\n",
    "df_top_5_ram = data[data['ram'].isin(top_5_ram)]\n",
    "\n",
    "# Group by 'ram' and calculate the mean price for these top 5 RAM configurations\n",
    "grouped = df_top_5_ram.groupby('ram')['price'].mean().reset_index()\n",
    "\n",
    "# Sorting the DataFrame by 'ram'\n",
    "grouped = grouped.sort_values('ram')\n",
    "grouped\n"
   ]
  },
  {
   "cell_type": "code",
   "execution_count": 166,
   "id": "ae93ea2a-cec9-48bb-9b12-a2732c466e86",
   "metadata": {},
   "outputs": [
    {
     "data": {
      "image/png": "[encoded data removed]",
      "text/plain": [
       "<Figure size 1000x600 with 1 Axes>"
      ]
     },
     "metadata": {},
     "output_type": "display_data"
    }
   ],
   "source": [
    "# Plotting the average prices per top 5 RAM configurations using a line plot\n",
    "plt.figure(figsize=(10, 6))\n",
    "plt.plot(grouped['ram'], grouped['price'], marker='o', linestyle='-')\n",
    "plt.xlabel('RAM')\n",
    "plt.ylabel('Average Price')\n",
    "plt.title('Average Price for most common RAM Configurations')\n",
    "plt.xticks(grouped['ram'])\n",
    "plt.grid(True)\n",
    "plt.show()"
   ]
  },
  {
   "cell_type": "code",
   "execution_count": 167,
   "id": "f1a1e13a-4796-48ed-bc81-f155c1c855d1",
   "metadata": {},
   "outputs": [
    {
     "data": {
      "text/html": [
       "<div>\n",
       "<style scoped>\n",
       "    .dataframe tbody tr th:only-of-type {\n",
       "        vertical-align: middle;\n",
       "    }\n",
       "\n",
       "    .dataframe tbody tr th {\n",
       "        vertical-align: top;\n",
       "    }\n",
       "\n",
       "    .dataframe thead th {\n",
       "        text-align: right;\n",
       "    }\n",
       "</style>\n",
       "<table border=\"1\" class=\"dataframe\">\n",
       "  <thead>\n",
       "    <tr style=\"text-align: right;\">\n",
       "      <th></th>\n",
       "      <th>harddisk</th>\n",
       "      <th>price</th>\n",
       "    </tr>\n",
       "  </thead>\n",
       "  <tbody>\n",
       "    <tr>\n",
       "      <th>0</th>\n",
       "      <td>64.0</td>\n",
       "      <td>358.888670</td>\n",
       "    </tr>\n",
       "    <tr>\n",
       "      <th>1</th>\n",
       "      <td>256.0</td>\n",
       "      <td>992.712633</td>\n",
       "    </tr>\n",
       "    <tr>\n",
       "      <th>2</th>\n",
       "      <td>512.0</td>\n",
       "      <td>1406.894330</td>\n",
       "    </tr>\n",
       "    <tr>\n",
       "      <th>3</th>\n",
       "      <td>1000.0</td>\n",
       "      <td>1302.671230</td>\n",
       "    </tr>\n",
       "    <tr>\n",
       "      <th>4</th>\n",
       "      <td>2000.0</td>\n",
       "      <td>1870.021413</td>\n",
       "    </tr>\n",
       "  </tbody>\n",
       "</table>\n",
       "</div>"
      ],
      "text/plain": [
       "   harddisk        price\n",
       "0      64.0   358.888670\n",
       "1     256.0   992.712633\n",
       "2     512.0  1406.894330\n",
       "3    1000.0  1302.671230\n",
       "4    2000.0  1870.021413"
      ]
     },
     "execution_count": 167,
     "metadata": {},
     "output_type": "execute_result"
    }
   ],
   "source": [
    "# Count the frequency of each harddisk configuration\n",
    "harddisk_counts = data['harddisk'].value_counts()\n",
    "\n",
    "# Sort the harddisk configurations by frequency and take the top 5 most common\n",
    "top_5_harddisk = harddisk_counts.nlargest(5).index\n",
    "\n",
    "# Filter the original DataFrame to include only data for the top 5 most common harddisk configurations\n",
    "df_top_5_harddisk = data[data['harddisk'].isin(top_5_harddisk)]\n",
    "\n",
    "# Group by 'harddisk' and calculate the mean price for these top 5 harddisk configurations\n",
    "grouped = df_top_5_harddisk.groupby('harddisk')['price'].mean().reset_index()\n",
    "\n",
    "# Sorting the DataFrame by 'harddisk'\n",
    "grouped = grouped.sort_values('harddisk')\n",
    "grouped\n"
   ]
  },
  {
   "cell_type": "code",
   "execution_count": 168,
   "id": "8e93b025-1095-4a77-b74f-b1849d0e732a",
   "metadata": {},
   "outputs": [
    {
     "data": {
      "image/png": "[encoded data removed]",
      "text/plain": [
       "<Figure size 1000x600 with 1 Axes>"
      ]
     },
     "metadata": {},
     "output_type": "display_data"
    }
   ],
   "source": [
    "# Plotting the average prices per top 5 harddisk configurations using a line plot\n",
    "plt.figure(figsize=(10, 6))\n",
    "plt.plot(grouped['harddisk'], grouped['price'], marker='o', linestyle='-')\n",
    "plt.xlabel('Harddisk')\n",
    "plt.ylabel('Average Price')\n",
    "plt.title('Average Price for most common harddisk Configurations')\n",
    "plt.xticks(grouped['harddisk'])\n",
    "plt.grid(True)\n",
    "plt.show()"
   ]
  },
  {
   "cell_type": "code",
   "execution_count": 169,
   "id": "6ee25381-f166-4a2f-86b4-c821e840be7c",
   "metadata": {},
   "outputs": [
    {
     "data": {
      "text/html": [
       "<div>\n",
       "<style scoped>\n",
       "    .dataframe tbody tr th:only-of-type {\n",
       "        vertical-align: middle;\n",
       "    }\n",
       "\n",
       "    .dataframe tbody tr th {\n",
       "        vertical-align: top;\n",
       "    }\n",
       "\n",
       "    .dataframe thead th {\n",
       "        text-align: right;\n",
       "    }\n",
       "</style>\n",
       "<table border=\"1\" class=\"dataframe\">\n",
       "  <thead>\n",
       "    <tr style=\"text-align: right;\">\n",
       "      <th></th>\n",
       "      <th>ram</th>\n",
       "      <th>harddisk</th>\n",
       "      <th>price</th>\n",
       "    </tr>\n",
       "  </thead>\n",
       "  <tbody>\n",
       "    <tr>\n",
       "      <th>0</th>\n",
       "      <td>4.0</td>\n",
       "      <td>64.0</td>\n",
       "      <td>246.188750</td>\n",
       "    </tr>\n",
       "    <tr>\n",
       "      <th>1</th>\n",
       "      <td>4.0</td>\n",
       "      <td>256.0</td>\n",
       "      <td>680.730769</td>\n",
       "    </tr>\n",
       "    <tr>\n",
       "      <th>2</th>\n",
       "      <td>4.0</td>\n",
       "      <td>512.0</td>\n",
       "      <td>1159.962500</td>\n",
       "    </tr>\n",
       "    <tr>\n",
       "      <th>3</th>\n",
       "      <td>4.0</td>\n",
       "      <td>1000.0</td>\n",
       "      <td>719.378000</td>\n",
       "    </tr>\n",
       "    <tr>\n",
       "      <th>4</th>\n",
       "      <td>4.0</td>\n",
       "      <td>2000.0</td>\n",
       "      <td>719.990000</td>\n",
       "    </tr>\n",
       "    <tr>\n",
       "      <th>5</th>\n",
       "      <td>8.0</td>\n",
       "      <td>64.0</td>\n",
       "      <td>381.353636</td>\n",
       "    </tr>\n",
       "    <tr>\n",
       "      <th>6</th>\n",
       "      <td>8.0</td>\n",
       "      <td>256.0</td>\n",
       "      <td>811.459286</td>\n",
       "    </tr>\n",
       "    <tr>\n",
       "      <th>7</th>\n",
       "      <td>8.0</td>\n",
       "      <td>512.0</td>\n",
       "      <td>876.541442</td>\n",
       "    </tr>\n",
       "    <tr>\n",
       "      <th>8</th>\n",
       "      <td>8.0</td>\n",
       "      <td>1000.0</td>\n",
       "      <td>951.330400</td>\n",
       "    </tr>\n",
       "    <tr>\n",
       "      <th>9</th>\n",
       "      <td>8.0</td>\n",
       "      <td>2000.0</td>\n",
       "      <td>883.197500</td>\n",
       "    </tr>\n",
       "    <tr>\n",
       "      <th>10</th>\n",
       "      <td>16.0</td>\n",
       "      <td>64.0</td>\n",
       "      <td>389.990000</td>\n",
       "    </tr>\n",
       "    <tr>\n",
       "      <th>11</th>\n",
       "      <td>16.0</td>\n",
       "      <td>256.0</td>\n",
       "      <td>1189.731701</td>\n",
       "    </tr>\n",
       "    <tr>\n",
       "      <th>12</th>\n",
       "      <td>16.0</td>\n",
       "      <td>512.0</td>\n",
       "      <td>1398.288756</td>\n",
       "    </tr>\n",
       "    <tr>\n",
       "      <th>13</th>\n",
       "      <td>16.0</td>\n",
       "      <td>1000.0</td>\n",
       "      <td>1059.148886</td>\n",
       "    </tr>\n",
       "    <tr>\n",
       "      <th>14</th>\n",
       "      <td>16.0</td>\n",
       "      <td>2000.0</td>\n",
       "      <td>1459.212857</td>\n",
       "    </tr>\n",
       "    <tr>\n",
       "      <th>15</th>\n",
       "      <td>32.0</td>\n",
       "      <td>256.0</td>\n",
       "      <td>1227.482069</td>\n",
       "    </tr>\n",
       "    <tr>\n",
       "      <th>16</th>\n",
       "      <td>32.0</td>\n",
       "      <td>512.0</td>\n",
       "      <td>1747.659124</td>\n",
       "    </tr>\n",
       "    <tr>\n",
       "      <th>17</th>\n",
       "      <td>32.0</td>\n",
       "      <td>1000.0</td>\n",
       "      <td>1556.258918</td>\n",
       "    </tr>\n",
       "    <tr>\n",
       "      <th>18</th>\n",
       "      <td>32.0</td>\n",
       "      <td>2000.0</td>\n",
       "      <td>1948.428958</td>\n",
       "    </tr>\n",
       "    <tr>\n",
       "      <th>19</th>\n",
       "      <td>64.0</td>\n",
       "      <td>256.0</td>\n",
       "      <td>1174.540000</td>\n",
       "    </tr>\n",
       "    <tr>\n",
       "      <th>20</th>\n",
       "      <td>64.0</td>\n",
       "      <td>512.0</td>\n",
       "      <td>2101.245333</td>\n",
       "    </tr>\n",
       "    <tr>\n",
       "      <th>21</th>\n",
       "      <td>64.0</td>\n",
       "      <td>1000.0</td>\n",
       "      <td>1356.477508</td>\n",
       "    </tr>\n",
       "    <tr>\n",
       "      <th>22</th>\n",
       "      <td>64.0</td>\n",
       "      <td>2000.0</td>\n",
       "      <td>2292.631915</td>\n",
       "    </tr>\n",
       "  </tbody>\n",
       "</table>\n",
       "</div>"
      ],
      "text/plain": [
       "     ram  harddisk        price\n",
       "0    4.0      64.0   246.188750\n",
       "1    4.0     256.0   680.730769\n",
       "2    4.0     512.0  1159.962500\n",
       "3    4.0    1000.0   719.378000\n",
       "4    4.0    2000.0   719.990000\n",
       "5    8.0      64.0   381.353636\n",
       "6    8.0     256.0   811.459286\n",
       "7    8.0     512.0   876.541442\n",
       "8    8.0    1000.0   951.330400\n",
       "9    8.0    2000.0   883.197500\n",
       "10  16.0      64.0   389.990000\n",
       "11  16.0     256.0  1189.731701\n",
       "12  16.0     512.0  1398.288756\n",
       "13  16.0    1000.0  1059.148886\n",
       "14  16.0    2000.0  1459.212857\n",
       "15  32.0     256.0  1227.482069\n",
       "16  32.0     512.0  1747.659124\n",
       "17  32.0    1000.0  1556.258918\n",
       "18  32.0    2000.0  1948.428958\n",
       "19  64.0     256.0  1174.540000\n",
       "20  64.0     512.0  2101.245333\n",
       "21  64.0    1000.0  1356.477508\n",
       "22  64.0    2000.0  2292.631915"
      ]
     },
     "execution_count": 169,
     "metadata": {},
     "output_type": "execute_result"
    }
   ],
   "source": [
    "# Count the frequency of each RAM and harddisk configuration\n",
    "top_5_ram = data['ram'].value_counts().nlargest(5).index\n",
    "top_5_harddisk = data['harddisk'].value_counts().nlargest(5).index\n",
    "\n",
    "# Filter the DataFrame to include only the top 5 configurations for both RAM and harddisk\n",
    "df_top_5 = data[data['ram'].isin(top_5_ram) & data['harddisk'].isin(top_5_harddisk)]\n",
    "\n",
    "# Group by 'ram' and 'harddisk' and calculate the mean price for these top 5 configurations\n",
    "grouped = df_top_5.groupby(['ram', 'harddisk'])['price'].mean().reset_index()\n",
    "grouped"
   ]
  },
  {
   "cell_type": "code",
   "execution_count": 170,
   "id": "4dedd23e-1597-4961-9ec1-b5e2e004b8e5",
   "metadata": {},
   "outputs": [
    {
     "data": {
      "image/png": "[encoded data removed]",
      "text/plain": [
       "<Figure size 1000x600 with 1 Axes>"
      ]
     },
     "metadata": {},
     "output_type": "display_data"
    }
   ],
   "source": [
    "# Create the plot using seaborn with a different color palette and line plot\n",
    "plt.figure(figsize=(10, 6))\n",
    "sns.lineplot(data=grouped, x='harddisk', y='price', hue='ram', palette='tab10', style='ram', markers=True, dashes=False)\n",
    "plt.title('Harddisk vs Price for Different RAM Configurations')\n",
    "plt.xlabel('Harddisk')\n",
    "plt.ylabel('Price')\n",
    "plt.legend(title='RAM', loc='center left', bbox_to_anchor=(1, 0.5))\n",
    "plt.show()"
   ]
  },
  {
   "cell_type": "code",
   "execution_count": 172,
   "id": "743e657d-c6ef-4fef-aa5f-1ac33aa7e78d",
   "metadata": {},
   "outputs": [
    {
     "data": {
      "text/html": [
       "<div>\n",
       "<style scoped>\n",
       "    .dataframe tbody tr th:only-of-type {\n",
       "        vertical-align: middle;\n",
       "    }\n",
       "\n",
       "    .dataframe tbody tr th {\n",
       "        vertical-align: top;\n",
       "    }\n",
       "\n",
       "    .dataframe thead th {\n",
       "        text-align: right;\n",
       "    }\n",
       "</style>\n",
       "<table border=\"1\" class=\"dataframe\">\n",
       "  <thead>\n",
       "    <tr style=\"text-align: right;\">\n",
       "      <th></th>\n",
       "      <th>cpu</th>\n",
       "      <th>price</th>\n",
       "    </tr>\n",
       "  </thead>\n",
       "  <tbody>\n",
       "    <tr>\n",
       "      <th>0</th>\n",
       "      <td></td>\n",
       "      <td>1108.511828</td>\n",
       "    </tr>\n",
       "    <tr>\n",
       "      <th>1</th>\n",
       "      <td>8032</td>\n",
       "      <td>1163.965789</td>\n",
       "    </tr>\n",
       "    <tr>\n",
       "      <th>2</th>\n",
       "      <td>Celeron</td>\n",
       "      <td>352.394570</td>\n",
       "    </tr>\n",
       "    <tr>\n",
       "      <th>3</th>\n",
       "      <td>Intel Core i3</td>\n",
       "      <td>521.832674</td>\n",
       "    </tr>\n",
       "    <tr>\n",
       "      <th>4</th>\n",
       "      <td>Intel Core i5</td>\n",
       "      <td>970.575718</td>\n",
       "    </tr>\n",
       "    <tr>\n",
       "      <th>5</th>\n",
       "      <td>Intel Core i7</td>\n",
       "      <td>1702.588089</td>\n",
       "    </tr>\n",
       "    <tr>\n",
       "      <th>6</th>\n",
       "      <td>Intel Core i9</td>\n",
       "      <td>2053.403345</td>\n",
       "    </tr>\n",
       "    <tr>\n",
       "      <th>7</th>\n",
       "      <td>Pentium</td>\n",
       "      <td>453.594421</td>\n",
       "    </tr>\n",
       "    <tr>\n",
       "      <th>8</th>\n",
       "      <td>Ryzen 5</td>\n",
       "      <td>800.910000</td>\n",
       "    </tr>\n",
       "    <tr>\n",
       "      <th>9</th>\n",
       "      <td>Ryzen 7</td>\n",
       "      <td>1413.827759</td>\n",
       "    </tr>\n",
       "  </tbody>\n",
       "</table>\n",
       "</div>"
      ],
      "text/plain": [
       "             cpu        price\n",
       "0                 1108.511828\n",
       "1           8032  1163.965789\n",
       "2        Celeron   352.394570\n",
       "3  Intel Core i3   521.832674\n",
       "4  Intel Core i5   970.575718\n",
       "5  Intel Core i7  1702.588089\n",
       "6  Intel Core i9  2053.403345\n",
       "7        Pentium   453.594421\n",
       "8        Ryzen 5   800.910000\n",
       "9        Ryzen 7  1413.827759"
      ]
     },
     "execution_count": 172,
     "metadata": {},
     "output_type": "execute_result"
    }
   ],
   "source": [
    "# Count the frequency of each CPU\n",
    "cpu_counts = data['cpu'].value_counts()\n",
    "\n",
    "# Sort the CPUs by frequency and take the top 10 most common\n",
    "top_10_cpus = cpu_counts.nlargest(10).index\n",
    "\n",
    "# Filter the original DataFrame to include only data for the top 10 most common CPUs\n",
    "df_top_10 = data[data['cpu'].isin(top_10_cpus)]\n",
    "\n",
    "# Calculate the mean prices for these top 10 CPUs\n",
    "grouped = df_top_10.groupby('cpu')['price'].mean().reset_index()\n",
    "grouped\n"
   ]
  },
  {
   "cell_type": "code",
   "execution_count": 173,
   "id": "b05bff3a-a3d5-485b-aeba-39815f8b0ee7",
   "metadata": {},
   "outputs": [
    {
     "data": {
      "text/html": [
       "<div>\n",
       "<style scoped>\n",
       "    .dataframe tbody tr th:only-of-type {\n",
       "        vertical-align: middle;\n",
       "    }\n",
       "\n",
       "    .dataframe tbody tr th {\n",
       "        vertical-align: top;\n",
       "    }\n",
       "\n",
       "    .dataframe thead th {\n",
       "        text-align: right;\n",
       "    }\n",
       "</style>\n",
       "<table border=\"1\" class=\"dataframe\">\n",
       "  <thead>\n",
       "    <tr style=\"text-align: right;\">\n",
       "      <th></th>\n",
       "      <th>cpu</th>\n",
       "      <th>price</th>\n",
       "    </tr>\n",
       "  </thead>\n",
       "  <tbody>\n",
       "    <tr>\n",
       "      <th>6</th>\n",
       "      <td>Intel Core i9</td>\n",
       "      <td>2053.403345</td>\n",
       "    </tr>\n",
       "    <tr>\n",
       "      <th>5</th>\n",
       "      <td>Intel Core i7</td>\n",
       "      <td>1702.588089</td>\n",
       "    </tr>\n",
       "    <tr>\n",
       "      <th>9</th>\n",
       "      <td>Ryzen 7</td>\n",
       "      <td>1413.827759</td>\n",
       "    </tr>\n",
       "    <tr>\n",
       "      <th>4</th>\n",
       "      <td>Intel Core i5</td>\n",
       "      <td>970.575718</td>\n",
       "    </tr>\n",
       "    <tr>\n",
       "      <th>8</th>\n",
       "      <td>Ryzen 5</td>\n",
       "      <td>800.910000</td>\n",
       "    </tr>\n",
       "    <tr>\n",
       "      <th>3</th>\n",
       "      <td>Intel Core i3</td>\n",
       "      <td>521.832674</td>\n",
       "    </tr>\n",
       "    <tr>\n",
       "      <th>7</th>\n",
       "      <td>Pentium</td>\n",
       "      <td>453.594421</td>\n",
       "    </tr>\n",
       "    <tr>\n",
       "      <th>2</th>\n",
       "      <td>Celeron</td>\n",
       "      <td>352.394570</td>\n",
       "    </tr>\n",
       "  </tbody>\n",
       "</table>\n",
       "</div>"
      ],
      "text/plain": [
       "             cpu        price\n",
       "6  Intel Core i9  2053.403345\n",
       "5  Intel Core i7  1702.588089\n",
       "9        Ryzen 7  1413.827759\n",
       "4  Intel Core i5   970.575718\n",
       "8        Ryzen 5   800.910000\n",
       "3  Intel Core i3   521.832674\n",
       "7        Pentium   453.594421\n",
       "2        Celeron   352.394570"
      ]
     },
     "execution_count": 173,
     "metadata": {},
     "output_type": "execute_result"
    }
   ],
   "source": [
    "grouped.reset_index()\n",
    "# Identify rows with specific CPU names to drop\n",
    "to_drop = ['8032', '']\n",
    "\n",
    "# Drop rows based on the 'cpu' column values\n",
    "grouped = grouped[~grouped['cpu'].isin(to_drop)]\n",
    "\n",
    "# Sort by the average price\n",
    "grouped = grouped.sort_values('price', ascending=False)\n",
    "grouped"
   ]
  },
  {
   "cell_type": "code",
   "execution_count": 174,
   "id": "ac0c582f-b378-4fd7-9739-281b055d69ef",
   "metadata": {},
   "outputs": [
    {
     "data": {
      "image/png": "[encoded data removed]",
      "text/plain": [
       "<Figure size 1000x600 with 1 Axes>"
      ]
     },
     "metadata": {},
     "output_type": "display_data"
    }
   ],
   "source": [
    "# Plot the average prices per CPU\n",
    "plt.figure(figsize=(10, 6))\n",
    "plt.bar(grouped['cpu'], grouped['price'])\n",
    "plt.xlabel('CPU')\n",
    "plt.ylabel('Average Price')\n",
    "plt.title('Average Price for Top 8 Most Used CPUs')\n",
    "plt.xticks(rotation=45)\n",
    "plt.show()"
   ]
  },
  {
   "cell_type": "code",
   "execution_count": null,
   "id": "b7ab32d9-447d-4d55-920f-ec97440d4b8b",
   "metadata": {},
   "outputs": [],
   "source": []
  },
  {
   "cell_type": "code",
   "execution_count": null,
   "id": "8bcd490f-f7e5-4544-a62c-bd8abb73c363",
   "metadata": {},
   "outputs": [],
   "source": [
    "In conclusion, our analysis of Amazon laptop prices reveals important insights. \n",
    "We've identified trends in pricing and factors influencing them, like brand and specifications. \n",
    "This information can guide consumers in making informed purchasing decisions. \n",
    "It also helps retailers adjust their strategies to stay competitive. Overall, \n",
    "our findings contribute to a better understanding of the laptop market on Amazon."
   ]
  }
 ],
 "metadata": {
  "kernelspec": {
   "display_name": "Python 3 (ipykernel)",
   "language": "python",
   "name": "python3"
  },
  "language_info": {
   "codemirror_mode": {
    "name": "ipython",
    "version": 3
   },
   "file_extension": ".py",
   "mimetype": "text/x-python",
   "name": "python",
   "nbconvert_exporter": "python",
   "pygments_lexer": "ipython3",
   "version": "3.10.11"
  }
 },
 "nbformat": 4,
 "nbformat_minor": 5
}
